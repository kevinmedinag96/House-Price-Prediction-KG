{
 "cells": [
  {
   "cell_type": "markdown",
   "metadata": {},
   "source": [
    "House Pricing Prediction - Part One | Exploratory Data Analysis | Handling Missing Data | Categorical Features Encoding"
   ]
  },
  {
   "cell_type": "markdown",
   "metadata": {},
   "source": [
    "This first notebook contains the first steps to solve the <a href=\"https://www.kaggle.com/competitions/house-prices-advanced-regression-techniques/leaderboard\">**House Prediction Challenge**</a>, as introduced in the **Kaggle Competition**.\n",
    "\n",
    "\n",
    "\n",
    "The Dataset is split into a training set and a test set.  The training set consists of **1,460 houses** and **81 features**.\n",
    "\n",
    "We will showcase an exhaustive **Exploratory Data Analysis (EDA)** to get prior insights in the dataset, determine the data types of each attribute and if the dataset presents **missing data** (and its percentage). \n",
    "\n",
    "Consequently, we will device a strategy to impute missing data. A common approach is to plot the attribute distribution and ask if there is a clever way to fill the non-value cells, if it is not, then we will conduct different optimization techniques to fill this gap. Before executing the imputing technique, it is strongly suggested to remove any outlier in order to remove any noise in the distribution that may affect the data filling process.\n",
    "\n",
    "Once we get a complete tidy dataset, we will proceed to find the most relevant features, by leveraging correlation analysis and other approaches. \n",
    "\n",
    "From the remaining features, maybe there are a subset of them represented as a numerical variable that could be represented as a categories. If said attributes do exist, then we will convert them to categories using an integer representation or one-hot encoding.\n",
    "\n",
    "\n",
    "\n"
   ]
  },
  {
   "cell_type": "markdown",
   "metadata": {},
   "source": [
    "**Kaggle Dataset Feature Description:** <br>\n",
    "**SalePrice** - the property's sale price in dollars. This is the target variable that you're trying to predict. <br>\n",
    "**MSSubClass:** The building class <br>\n",
    "**MSZoning:** The general zoning classification                          <br>\n",
    "**LotFrontage:** Linear feet of street connected to property <br>\n",
    "**LotArea:** Lot size in square feet <br>\n",
    "**Street:** Type of road access <br>\n",
    "**Alley:** Type of alley access <br>\n",
    "**LotShape:** General shape of property <br>\n",
    "**LandContour:** Flatness of the property <br>\n",
    "**Utilities:** Type of utilities available <br>\n",
    "**LotConfig:** Lot configuration <br>\n",
    "**LandSlope:** Slope of property <br>\n",
    "**Neighborhood:** Physical locations within Ames city limits <br>\n",
    "**Condition1:** Proximity to main road or railroad <br>\n",
    "**Condition2:** Proximity to main road or railroad (if a second is present) <br>\n",
    "**BldgType:** Type of dwelling <br>\n",
    "**HouseStyle:** Style of dwelling <br>\n",
    "**OverallQual:** Overall material and finish quality <br>\n",
    "**OverallCond:** Overall condition rating <br>\n",
    "**YearBuilt:** Original construction date <br>\n",
    "**YearRemodAdd:** Remodel date <br>\n",
    "**RoofStyle:** Type of roof <br>\n",
    "**RoofMatl:** Roof material <br>\n",
    "**Exterior1st**: Exterior covering on house <br>\n",
    "**Exterior2nd**: Exterior covering on house (if more than one material) <br>\n",
    "**MasVnrType:** Masonry veneer type <br>\n",
    "**MasVnrArea:** Masonry veneer area in square feet <br>\n",
    "**ExterQual:** Exterior material quality <br>\n",
    "**ExterCond:** Present condition of the material on the exterior <br>\n",
    "**Foundation:** Type of foundation <br>\n",
    "**BsmtQual:** Height of the basement <br>\n",
    "**BsmtCond:** General condition of the basement <br>\n",
    "**BsmtExposure:** Walkout or garden level basement walls <br>\n",
    "**BsmtFinType1:** Quality of basement finished area <br>\n",
    "**BsmtFinSF1:** Type 1 finished square feet <br>\n",
    "**BsmtFinType2:** Quality of second finished area (if present) <br>\n",
    "**BsmtFinSF2:** Type 2 finished square feet <br>\n",
    "**BsmtUnfSF:** Unfinished square feet of basement area <br>\n",
    "**TotalBsmtSF**: Total square feet of basement area <br>\n",
    "**Heating:** Type of heating <br>\n",
    "**HeatingQC:** Heating quality and condition <br>\n",
    "**CentralAir:** Central air conditioning <br>\n",
    "**Electrical:** Electrical system <br>\n",
    "**1stFlrSF:** First Floor square feet <br>\n",
    "**2ndFlrSF:** Second floor square feet <br>\n",
    "**LowQualFinSF:** Low quality finished square feet (all floors) <br>\n",
    "**GrLivArea:** Above grade (ground) living area square feet <br>\n",
    "**BsmtFullBath:** Basement full bathrooms <br>\n",
    "**BsmtHalfBath:** Basement half bathrooms <br>\n",
    "**FullBath:** Full bathrooms above grade <br>\n",
    "**HalfBath:** Half baths above grade <br>\n",
    "**Bedroom:** Number of bedrooms above basement level <br>\n",
    "**Kitchen:** Number of kitchens <br>\n",
    "**KitchenQual:** Kitchen quality <br>\n",
    "**TotRmsAbvGrd:** Total rooms above grade (does not include bathrooms) <br>\n",
    "**Functional:** Home functionality rating <br>\n",
    "**Fireplaces:** Number of fireplaces <br>\n",
    "**FireplaceQu**: Fireplace quality <br>\n",
    "**GarageType:** Garage location <br>\n",
    "**GarageYrBlt**: Year garage was built <br>\n",
    "**GarageFinish:** Interior finish of the garage <br>\n",
    "**GarageCars:** Size of garage in car capacity <br>\n",
    "**GarageArea:** Size of garage in square feet <br>\n",
    "**GarageQual:** Garage quality <br>\n",
    "**GarageCond:** Garage condition <br>\n",
    "**PavedDrive:** Paved driveway <br>\n",
    "**WoodDeckSF:** Wood deck area in square feet <br>\n",
    "**OpenPorchSF**: Open porch area in square feet <br>\n",
    "**EnclosedPorch:** Enclosed porch area in square feet <br>\n",
    "**3SsnPorch:** Three season porch area in square feet <br>\n",
    "**ScreenPorch**: Screen porch area in square feet <br>\n",
    "**PoolArea**: Pool area in square feet <br>\n",
    "**PoolQC:** Pool quality <br>\n",
    "**Fence:** Fence quality <br>\n",
    "**MiscFeature:** Miscellaneous feature not covered in other categories <br>\n",
    "**MiscVal:** $Value of miscellaneous feature <br>\n",
    "**MoSold:** Month Sold <br>\n",
    "**YrSold:** Year Sold <br>\n",
    "**SaleType**: Type of sale <br>\n",
    "**SaleCondition:** Condition of sale <br>"
   ]
  },
  {
   "cell_type": "markdown",
   "metadata": {},
   "source": [
    "Libraries"
   ]
  },
  {
   "cell_type": "code",
   "execution_count": 1,
   "metadata": {},
   "outputs": [
    {
     "name": "stderr",
     "output_type": "stream",
     "text": [
      "c:\\Users\\kevin\\miniconda3\\envs\\hackerrank\\Lib\\site-packages\\tqdm\\auto.py:21: TqdmWarning: IProgress not found. Please update jupyter and ipywidgets. See https://ipywidgets.readthedocs.io/en/stable/user_install.html\n",
      "  from .autonotebook import tqdm as notebook_tqdm\n"
     ]
    }
   ],
   "source": [
    "import json\n",
    "import pandas as pd\n",
    "from sklearn.model_selection import train_test_split\n",
    "from sklearn.metrics import mean_squared_error\n",
    "from sklearn.ensemble import GradientBoostingRegressor,RandomForestRegressor,AdaBoostRegressor\n",
    "from sklearn.svm import SVR\n",
    "from sklearn.preprocessing import PolynomialFeatures\n",
    "from sklearn.linear_model import Ridge\n",
    "from sklearn.pipeline import Pipeline\n",
    "from sklearn.preprocessing import StandardScaler\n",
    "from sklearn.tree import DecisionTreeRegressor\n",
    "from sklearn.model_selection import GridSearchCV\n",
    "import xgboost as xgb\n",
    "import lightgbm as lgbm\n",
    "\n",
    "import numpy as np\n",
    "\n",
    "import pandas as pd\n",
    "import seaborn as sns\n",
    "from sklearn.preprocessing import LabelEncoder\n",
    "import numpy as np\n",
    "import matplotlib.pyplot as plt\n",
    "import shap\n",
    "from sklearn.model_selection import KFold\n",
    "import matplotlib.colors as mcolors\n",
    "import matplotlib"
   ]
  },
  {
   "cell_type": "code",
   "execution_count": 2,
   "metadata": {},
   "outputs": [],
   "source": [
    "black = mcolors.CSS4_COLORS[\"black\"]\n",
    "lime = mcolors.CSS4_COLORS[\"lime\"]\n",
    "aqua = mcolors.CSS4_COLORS[\"aqua\"]\n",
    "magenta = mcolors.CSS4_COLORS[\"magenta\"]\n",
    "red = mcolors.CSS4_COLORS[\"red\"]"
   ]
  },
  {
   "cell_type": "markdown",
   "metadata": {},
   "source": [
    "# Import the datasets"
   ]
  },
  {
   "cell_type": "code",
   "execution_count": 3,
   "metadata": {},
   "outputs": [],
   "source": [
    "df = pd.read_csv(\"./data/train.csv\")\n",
    "df.head()\n",
    "num_obs, num_feats = df.shape\n",
    "df_test = pd.read_csv(\"./data/test.csv\")"
   ]
  },
  {
   "cell_type": "markdown",
   "metadata": {},
   "source": [
    "# Exploratory Data Analysis (EDA)"
   ]
  },
  {
   "cell_type": "code",
   "execution_count": 4,
   "metadata": {},
   "outputs": [
    {
     "data": {
      "text/html": [
       "<div>\n",
       "<style scoped>\n",
       "    .dataframe tbody tr th:only-of-type {\n",
       "        vertical-align: middle;\n",
       "    }\n",
       "\n",
       "    .dataframe tbody tr th {\n",
       "        vertical-align: top;\n",
       "    }\n",
       "\n",
       "    .dataframe thead th {\n",
       "        text-align: right;\n",
       "    }\n",
       "</style>\n",
       "<table border=\"1\" class=\"dataframe\">\n",
       "  <thead>\n",
       "    <tr style=\"text-align: right;\">\n",
       "      <th></th>\n",
       "      <th>Id</th>\n",
       "      <th>MSSubClass</th>\n",
       "      <th>MSZoning</th>\n",
       "      <th>LotFrontage</th>\n",
       "      <th>LotArea</th>\n",
       "      <th>Street</th>\n",
       "      <th>Alley</th>\n",
       "      <th>LotShape</th>\n",
       "      <th>LandContour</th>\n",
       "      <th>Utilities</th>\n",
       "      <th>...</th>\n",
       "      <th>PoolArea</th>\n",
       "      <th>PoolQC</th>\n",
       "      <th>Fence</th>\n",
       "      <th>MiscFeature</th>\n",
       "      <th>MiscVal</th>\n",
       "      <th>MoSold</th>\n",
       "      <th>YrSold</th>\n",
       "      <th>SaleType</th>\n",
       "      <th>SaleCondition</th>\n",
       "      <th>SalePrice</th>\n",
       "    </tr>\n",
       "  </thead>\n",
       "  <tbody>\n",
       "    <tr>\n",
       "      <th>0</th>\n",
       "      <td>1</td>\n",
       "      <td>60</td>\n",
       "      <td>RL</td>\n",
       "      <td>65.0</td>\n",
       "      <td>8450</td>\n",
       "      <td>Pave</td>\n",
       "      <td>NaN</td>\n",
       "      <td>Reg</td>\n",
       "      <td>Lvl</td>\n",
       "      <td>AllPub</td>\n",
       "      <td>...</td>\n",
       "      <td>0</td>\n",
       "      <td>NaN</td>\n",
       "      <td>NaN</td>\n",
       "      <td>NaN</td>\n",
       "      <td>0</td>\n",
       "      <td>2</td>\n",
       "      <td>2008</td>\n",
       "      <td>WD</td>\n",
       "      <td>Normal</td>\n",
       "      <td>208500</td>\n",
       "    </tr>\n",
       "    <tr>\n",
       "      <th>1</th>\n",
       "      <td>2</td>\n",
       "      <td>20</td>\n",
       "      <td>RL</td>\n",
       "      <td>80.0</td>\n",
       "      <td>9600</td>\n",
       "      <td>Pave</td>\n",
       "      <td>NaN</td>\n",
       "      <td>Reg</td>\n",
       "      <td>Lvl</td>\n",
       "      <td>AllPub</td>\n",
       "      <td>...</td>\n",
       "      <td>0</td>\n",
       "      <td>NaN</td>\n",
       "      <td>NaN</td>\n",
       "      <td>NaN</td>\n",
       "      <td>0</td>\n",
       "      <td>5</td>\n",
       "      <td>2007</td>\n",
       "      <td>WD</td>\n",
       "      <td>Normal</td>\n",
       "      <td>181500</td>\n",
       "    </tr>\n",
       "    <tr>\n",
       "      <th>2</th>\n",
       "      <td>3</td>\n",
       "      <td>60</td>\n",
       "      <td>RL</td>\n",
       "      <td>68.0</td>\n",
       "      <td>11250</td>\n",
       "      <td>Pave</td>\n",
       "      <td>NaN</td>\n",
       "      <td>IR1</td>\n",
       "      <td>Lvl</td>\n",
       "      <td>AllPub</td>\n",
       "      <td>...</td>\n",
       "      <td>0</td>\n",
       "      <td>NaN</td>\n",
       "      <td>NaN</td>\n",
       "      <td>NaN</td>\n",
       "      <td>0</td>\n",
       "      <td>9</td>\n",
       "      <td>2008</td>\n",
       "      <td>WD</td>\n",
       "      <td>Normal</td>\n",
       "      <td>223500</td>\n",
       "    </tr>\n",
       "    <tr>\n",
       "      <th>3</th>\n",
       "      <td>4</td>\n",
       "      <td>70</td>\n",
       "      <td>RL</td>\n",
       "      <td>60.0</td>\n",
       "      <td>9550</td>\n",
       "      <td>Pave</td>\n",
       "      <td>NaN</td>\n",
       "      <td>IR1</td>\n",
       "      <td>Lvl</td>\n",
       "      <td>AllPub</td>\n",
       "      <td>...</td>\n",
       "      <td>0</td>\n",
       "      <td>NaN</td>\n",
       "      <td>NaN</td>\n",
       "      <td>NaN</td>\n",
       "      <td>0</td>\n",
       "      <td>2</td>\n",
       "      <td>2006</td>\n",
       "      <td>WD</td>\n",
       "      <td>Abnorml</td>\n",
       "      <td>140000</td>\n",
       "    </tr>\n",
       "    <tr>\n",
       "      <th>4</th>\n",
       "      <td>5</td>\n",
       "      <td>60</td>\n",
       "      <td>RL</td>\n",
       "      <td>84.0</td>\n",
       "      <td>14260</td>\n",
       "      <td>Pave</td>\n",
       "      <td>NaN</td>\n",
       "      <td>IR1</td>\n",
       "      <td>Lvl</td>\n",
       "      <td>AllPub</td>\n",
       "      <td>...</td>\n",
       "      <td>0</td>\n",
       "      <td>NaN</td>\n",
       "      <td>NaN</td>\n",
       "      <td>NaN</td>\n",
       "      <td>0</td>\n",
       "      <td>12</td>\n",
       "      <td>2008</td>\n",
       "      <td>WD</td>\n",
       "      <td>Normal</td>\n",
       "      <td>250000</td>\n",
       "    </tr>\n",
       "  </tbody>\n",
       "</table>\n",
       "<p>5 rows × 81 columns</p>\n",
       "</div>"
      ],
      "text/plain": [
       "   Id  MSSubClass MSZoning  LotFrontage  LotArea Street Alley LotShape  \\\n",
       "0   1          60       RL         65.0     8450   Pave   NaN      Reg   \n",
       "1   2          20       RL         80.0     9600   Pave   NaN      Reg   \n",
       "2   3          60       RL         68.0    11250   Pave   NaN      IR1   \n",
       "3   4          70       RL         60.0     9550   Pave   NaN      IR1   \n",
       "4   5          60       RL         84.0    14260   Pave   NaN      IR1   \n",
       "\n",
       "  LandContour Utilities  ... PoolArea PoolQC Fence MiscFeature MiscVal MoSold  \\\n",
       "0         Lvl    AllPub  ...        0    NaN   NaN         NaN       0      2   \n",
       "1         Lvl    AllPub  ...        0    NaN   NaN         NaN       0      5   \n",
       "2         Lvl    AllPub  ...        0    NaN   NaN         NaN       0      9   \n",
       "3         Lvl    AllPub  ...        0    NaN   NaN         NaN       0      2   \n",
       "4         Lvl    AllPub  ...        0    NaN   NaN         NaN       0     12   \n",
       "\n",
       "  YrSold  SaleType  SaleCondition  SalePrice  \n",
       "0   2008        WD         Normal     208500  \n",
       "1   2007        WD         Normal     181500  \n",
       "2   2008        WD         Normal     223500  \n",
       "3   2006        WD        Abnorml     140000  \n",
       "4   2008        WD         Normal     250000  \n",
       "\n",
       "[5 rows x 81 columns]"
      ]
     },
     "execution_count": 4,
     "metadata": {},
     "output_type": "execute_result"
    }
   ],
   "source": [
    "df.head()"
   ]
  },
  {
   "cell_type": "code",
   "execution_count": 5,
   "metadata": {},
   "outputs": [
    {
     "name": "stdout",
     "output_type": "stream",
     "text": [
      "<class 'pandas.core.frame.DataFrame'>\n",
      "RangeIndex: 1460 entries, 0 to 1459\n",
      "Data columns (total 81 columns):\n",
      " #   Column         Non-Null Count  Dtype  \n",
      "---  ------         --------------  -----  \n",
      " 0   Id             1460 non-null   int64  \n",
      " 1   MSSubClass     1460 non-null   int64  \n",
      " 2   MSZoning       1460 non-null   object \n",
      " 3   LotFrontage    1201 non-null   float64\n",
      " 4   LotArea        1460 non-null   int64  \n",
      " 5   Street         1460 non-null   object \n",
      " 6   Alley          91 non-null     object \n",
      " 7   LotShape       1460 non-null   object \n",
      " 8   LandContour    1460 non-null   object \n",
      " 9   Utilities      1460 non-null   object \n",
      " 10  LotConfig      1460 non-null   object \n",
      " 11  LandSlope      1460 non-null   object \n",
      " 12  Neighborhood   1460 non-null   object \n",
      " 13  Condition1     1460 non-null   object \n",
      " 14  Condition2     1460 non-null   object \n",
      " 15  BldgType       1460 non-null   object \n",
      " 16  HouseStyle     1460 non-null   object \n",
      " 17  OverallQual    1460 non-null   int64  \n",
      " 18  OverallCond    1460 non-null   int64  \n",
      " 19  YearBuilt      1460 non-null   int64  \n",
      " 20  YearRemodAdd   1460 non-null   int64  \n",
      " 21  RoofStyle      1460 non-null   object \n",
      " 22  RoofMatl       1460 non-null   object \n",
      " 23  Exterior1st    1460 non-null   object \n",
      " 24  Exterior2nd    1460 non-null   object \n",
      " 25  MasVnrType     588 non-null    object \n",
      " 26  MasVnrArea     1452 non-null   float64\n",
      " 27  ExterQual      1460 non-null   object \n",
      " 28  ExterCond      1460 non-null   object \n",
      " 29  Foundation     1460 non-null   object \n",
      " 30  BsmtQual       1423 non-null   object \n",
      " 31  BsmtCond       1423 non-null   object \n",
      " 32  BsmtExposure   1422 non-null   object \n",
      " 33  BsmtFinType1   1423 non-null   object \n",
      " 34  BsmtFinSF1     1460 non-null   int64  \n",
      " 35  BsmtFinType2   1422 non-null   object \n",
      " 36  BsmtFinSF2     1460 non-null   int64  \n",
      " 37  BsmtUnfSF      1460 non-null   int64  \n",
      " 38  TotalBsmtSF    1460 non-null   int64  \n",
      " 39  Heating        1460 non-null   object \n",
      " 40  HeatingQC      1460 non-null   object \n",
      " 41  CentralAir     1460 non-null   object \n",
      " 42  Electrical     1459 non-null   object \n",
      " 43  1stFlrSF       1460 non-null   int64  \n",
      " 44  2ndFlrSF       1460 non-null   int64  \n",
      " 45  LowQualFinSF   1460 non-null   int64  \n",
      " 46  GrLivArea      1460 non-null   int64  \n",
      " 47  BsmtFullBath   1460 non-null   int64  \n",
      " 48  BsmtHalfBath   1460 non-null   int64  \n",
      " 49  FullBath       1460 non-null   int64  \n",
      " 50  HalfBath       1460 non-null   int64  \n",
      " 51  BedroomAbvGr   1460 non-null   int64  \n",
      " 52  KitchenAbvGr   1460 non-null   int64  \n",
      " 53  KitchenQual    1460 non-null   object \n",
      " 54  TotRmsAbvGrd   1460 non-null   int64  \n",
      " 55  Functional     1460 non-null   object \n",
      " 56  Fireplaces     1460 non-null   int64  \n",
      " 57  FireplaceQu    770 non-null    object \n",
      " 58  GarageType     1379 non-null   object \n",
      " 59  GarageYrBlt    1379 non-null   float64\n",
      " 60  GarageFinish   1379 non-null   object \n",
      " 61  GarageCars     1460 non-null   int64  \n",
      " 62  GarageArea     1460 non-null   int64  \n",
      " 63  GarageQual     1379 non-null   object \n",
      " 64  GarageCond     1379 non-null   object \n",
      " 65  PavedDrive     1460 non-null   object \n",
      " 66  WoodDeckSF     1460 non-null   int64  \n",
      " 67  OpenPorchSF    1460 non-null   int64  \n",
      " 68  EnclosedPorch  1460 non-null   int64  \n",
      " 69  3SsnPorch      1460 non-null   int64  \n",
      " 70  ScreenPorch    1460 non-null   int64  \n",
      " 71  PoolArea       1460 non-null   int64  \n",
      " 72  PoolQC         7 non-null      object \n",
      " 73  Fence          281 non-null    object \n",
      " 74  MiscFeature    54 non-null     object \n",
      " 75  MiscVal        1460 non-null   int64  \n",
      " 76  MoSold         1460 non-null   int64  \n",
      " 77  YrSold         1460 non-null   int64  \n",
      " 78  SaleType       1460 non-null   object \n",
      " 79  SaleCondition  1460 non-null   object \n",
      " 80  SalePrice      1460 non-null   int64  \n",
      "dtypes: float64(3), int64(35), object(43)\n",
      "memory usage: 924.0+ KB\n"
     ]
    }
   ],
   "source": [
    "df.info()"
   ]
  },
  {
   "cell_type": "code",
   "execution_count": 6,
   "metadata": {},
   "outputs": [
    {
     "name": "stdout",
     "output_type": "stream",
     "text": [
      "unique feature datatypes : \n",
      " object     43\n",
      "int64      35\n",
      "float64     3\n",
      "Name: count, dtype: int64\n"
     ]
    }
   ],
   "source": [
    "print(f\"unique feature datatypes : \\n {df.dtypes.value_counts()}\")"
   ]
  },
  {
   "cell_type": "markdown",
   "metadata": {},
   "source": [
    "It appears that half the features are categorical"
   ]
  },
  {
   "cell_type": "code",
   "execution_count": 7,
   "metadata": {},
   "outputs": [
    {
     "name": "stdout",
     "output_type": "stream",
     "text": [
      "Df missing data : \n",
      " PoolQC          1453\n",
      "MiscFeature     1406\n",
      "Alley           1369\n",
      "Fence           1179\n",
      "MasVnrType       872\n",
      "FireplaceQu      690\n",
      "LotFrontage      259\n",
      "GarageType        81\n",
      "GarageYrBlt       81\n",
      "GarageFinish      81\n",
      "GarageQual        81\n",
      "GarageCond        81\n",
      "BsmtExposure      38\n",
      "BsmtFinType2      38\n",
      "BsmtQual          37\n",
      "BsmtCond          37\n",
      "BsmtFinType1      37\n",
      "MasVnrArea         8\n",
      "Electrical         1\n",
      "dtype: int64\n"
     ]
    }
   ],
   "source": [
    "cols_missing_data_count = df.isnull().sum()\n",
    "cols_missing_data = cols_missing_data_count.loc[cols_missing_data_count.values > 0].sort_values(ascending=False)\n",
    "print(f\"Df missing data : \\n {cols_missing_data}\")"
   ]
  },
  {
   "cell_type": "code",
   "execution_count": 8,
   "metadata": {},
   "outputs": [
    {
     "data": {
      "text/plain": [
       "PoolQC           object\n",
       "MiscFeature      object\n",
       "Alley            object\n",
       "Fence            object\n",
       "MasVnrType       object\n",
       "FireplaceQu      object\n",
       "LotFrontage     float64\n",
       "GarageType       object\n",
       "GarageYrBlt     float64\n",
       "GarageFinish     object\n",
       "GarageQual       object\n",
       "GarageCond       object\n",
       "BsmtExposure     object\n",
       "BsmtFinType2     object\n",
       "BsmtQual         object\n",
       "BsmtCond         object\n",
       "BsmtFinType1     object\n",
       "MasVnrArea      float64\n",
       "Electrical       object\n",
       "dtype: object"
      ]
     },
     "execution_count": 8,
     "metadata": {},
     "output_type": "execute_result"
    }
   ],
   "source": [
    "df[cols_missing_data.index].dtypes"
   ]
  },
  {
   "cell_type": "code",
   "execution_count": 9,
   "metadata": {},
   "outputs": [
    {
     "name": "stdout",
     "output_type": "stream",
     "text": [
      "Percentage DF missing data : \n",
      " PoolQC          99.520548\n",
      "MiscFeature     96.301370\n",
      "Alley           93.767123\n",
      "Fence           80.753425\n",
      "MasVnrType      59.726027\n",
      "FireplaceQu     47.260274\n",
      "LotFrontage     17.739726\n",
      "GarageType       5.547945\n",
      "GarageYrBlt      5.547945\n",
      "GarageFinish     5.547945\n",
      "GarageQual       5.547945\n",
      "GarageCond       5.547945\n",
      "BsmtExposure     2.602740\n",
      "BsmtFinType2     2.602740\n",
      "BsmtQual         2.534247\n",
      "BsmtCond         2.534247\n",
      "BsmtFinType1     2.534247\n",
      "MasVnrArea       0.547945\n",
      "Electrical       0.068493\n",
      "dtype: float64\n"
     ]
    }
   ],
   "source": [
    "percentage_missing_data = (cols_missing_data / num_obs ) * 100\n",
    "print(f\"Percentage DF missing data : \\n {percentage_missing_data}\")"
   ]
  },
  {
   "cell_type": "code",
   "execution_count": 10,
   "metadata": {},
   "outputs": [
    {
     "name": "stdout",
     "output_type": "stream",
     "text": [
      "Number of attributes with missing data: 19\n"
     ]
    }
   ],
   "source": [
    "print(f\"Number of attributes with missing data: {percentage_missing_data.count()}\")"
   ]
  },
  {
   "cell_type": "code",
   "execution_count": 11,
   "metadata": {},
   "outputs": [
    {
     "data": {
      "text/html": [
       "<div>\n",
       "<style scoped>\n",
       "    .dataframe tbody tr th:only-of-type {\n",
       "        vertical-align: middle;\n",
       "    }\n",
       "\n",
       "    .dataframe tbody tr th {\n",
       "        vertical-align: top;\n",
       "    }\n",
       "\n",
       "    .dataframe thead th {\n",
       "        text-align: right;\n",
       "    }\n",
       "</style>\n",
       "<table border=\"1\" class=\"dataframe\">\n",
       "  <thead>\n",
       "    <tr style=\"text-align: right;\">\n",
       "      <th></th>\n",
       "      <th>Id</th>\n",
       "      <th>MSSubClass</th>\n",
       "      <th>LotFrontage</th>\n",
       "      <th>LotArea</th>\n",
       "      <th>OverallQual</th>\n",
       "      <th>OverallCond</th>\n",
       "      <th>YearBuilt</th>\n",
       "      <th>YearRemodAdd</th>\n",
       "      <th>MasVnrArea</th>\n",
       "      <th>BsmtFinSF1</th>\n",
       "      <th>...</th>\n",
       "      <th>WoodDeckSF</th>\n",
       "      <th>OpenPorchSF</th>\n",
       "      <th>EnclosedPorch</th>\n",
       "      <th>3SsnPorch</th>\n",
       "      <th>ScreenPorch</th>\n",
       "      <th>PoolArea</th>\n",
       "      <th>MiscVal</th>\n",
       "      <th>MoSold</th>\n",
       "      <th>YrSold</th>\n",
       "      <th>SalePrice</th>\n",
       "    </tr>\n",
       "  </thead>\n",
       "  <tbody>\n",
       "    <tr>\n",
       "      <th>count</th>\n",
       "      <td>1460.000000</td>\n",
       "      <td>1460.000000</td>\n",
       "      <td>1201.000000</td>\n",
       "      <td>1460.000000</td>\n",
       "      <td>1460.000000</td>\n",
       "      <td>1460.000000</td>\n",
       "      <td>1460.000000</td>\n",
       "      <td>1460.000000</td>\n",
       "      <td>1452.000000</td>\n",
       "      <td>1460.000000</td>\n",
       "      <td>...</td>\n",
       "      <td>1460.000000</td>\n",
       "      <td>1460.000000</td>\n",
       "      <td>1460.000000</td>\n",
       "      <td>1460.000000</td>\n",
       "      <td>1460.000000</td>\n",
       "      <td>1460.000000</td>\n",
       "      <td>1460.000000</td>\n",
       "      <td>1460.000000</td>\n",
       "      <td>1460.000000</td>\n",
       "      <td>1460.000000</td>\n",
       "    </tr>\n",
       "    <tr>\n",
       "      <th>mean</th>\n",
       "      <td>730.500000</td>\n",
       "      <td>56.897260</td>\n",
       "      <td>70.049958</td>\n",
       "      <td>10516.828082</td>\n",
       "      <td>6.099315</td>\n",
       "      <td>5.575342</td>\n",
       "      <td>1971.267808</td>\n",
       "      <td>1984.865753</td>\n",
       "      <td>103.685262</td>\n",
       "      <td>443.639726</td>\n",
       "      <td>...</td>\n",
       "      <td>94.244521</td>\n",
       "      <td>46.660274</td>\n",
       "      <td>21.954110</td>\n",
       "      <td>3.409589</td>\n",
       "      <td>15.060959</td>\n",
       "      <td>2.758904</td>\n",
       "      <td>43.489041</td>\n",
       "      <td>6.321918</td>\n",
       "      <td>2007.815753</td>\n",
       "      <td>180921.195890</td>\n",
       "    </tr>\n",
       "    <tr>\n",
       "      <th>std</th>\n",
       "      <td>421.610009</td>\n",
       "      <td>42.300571</td>\n",
       "      <td>24.284752</td>\n",
       "      <td>9981.264932</td>\n",
       "      <td>1.382997</td>\n",
       "      <td>1.112799</td>\n",
       "      <td>30.202904</td>\n",
       "      <td>20.645407</td>\n",
       "      <td>181.066207</td>\n",
       "      <td>456.098091</td>\n",
       "      <td>...</td>\n",
       "      <td>125.338794</td>\n",
       "      <td>66.256028</td>\n",
       "      <td>61.119149</td>\n",
       "      <td>29.317331</td>\n",
       "      <td>55.757415</td>\n",
       "      <td>40.177307</td>\n",
       "      <td>496.123024</td>\n",
       "      <td>2.703626</td>\n",
       "      <td>1.328095</td>\n",
       "      <td>79442.502883</td>\n",
       "    </tr>\n",
       "    <tr>\n",
       "      <th>min</th>\n",
       "      <td>1.000000</td>\n",
       "      <td>20.000000</td>\n",
       "      <td>21.000000</td>\n",
       "      <td>1300.000000</td>\n",
       "      <td>1.000000</td>\n",
       "      <td>1.000000</td>\n",
       "      <td>1872.000000</td>\n",
       "      <td>1950.000000</td>\n",
       "      <td>0.000000</td>\n",
       "      <td>0.000000</td>\n",
       "      <td>...</td>\n",
       "      <td>0.000000</td>\n",
       "      <td>0.000000</td>\n",
       "      <td>0.000000</td>\n",
       "      <td>0.000000</td>\n",
       "      <td>0.000000</td>\n",
       "      <td>0.000000</td>\n",
       "      <td>0.000000</td>\n",
       "      <td>1.000000</td>\n",
       "      <td>2006.000000</td>\n",
       "      <td>34900.000000</td>\n",
       "    </tr>\n",
       "    <tr>\n",
       "      <th>25%</th>\n",
       "      <td>365.750000</td>\n",
       "      <td>20.000000</td>\n",
       "      <td>59.000000</td>\n",
       "      <td>7553.500000</td>\n",
       "      <td>5.000000</td>\n",
       "      <td>5.000000</td>\n",
       "      <td>1954.000000</td>\n",
       "      <td>1967.000000</td>\n",
       "      <td>0.000000</td>\n",
       "      <td>0.000000</td>\n",
       "      <td>...</td>\n",
       "      <td>0.000000</td>\n",
       "      <td>0.000000</td>\n",
       "      <td>0.000000</td>\n",
       "      <td>0.000000</td>\n",
       "      <td>0.000000</td>\n",
       "      <td>0.000000</td>\n",
       "      <td>0.000000</td>\n",
       "      <td>5.000000</td>\n",
       "      <td>2007.000000</td>\n",
       "      <td>129975.000000</td>\n",
       "    </tr>\n",
       "    <tr>\n",
       "      <th>50%</th>\n",
       "      <td>730.500000</td>\n",
       "      <td>50.000000</td>\n",
       "      <td>69.000000</td>\n",
       "      <td>9478.500000</td>\n",
       "      <td>6.000000</td>\n",
       "      <td>5.000000</td>\n",
       "      <td>1973.000000</td>\n",
       "      <td>1994.000000</td>\n",
       "      <td>0.000000</td>\n",
       "      <td>383.500000</td>\n",
       "      <td>...</td>\n",
       "      <td>0.000000</td>\n",
       "      <td>25.000000</td>\n",
       "      <td>0.000000</td>\n",
       "      <td>0.000000</td>\n",
       "      <td>0.000000</td>\n",
       "      <td>0.000000</td>\n",
       "      <td>0.000000</td>\n",
       "      <td>6.000000</td>\n",
       "      <td>2008.000000</td>\n",
       "      <td>163000.000000</td>\n",
       "    </tr>\n",
       "    <tr>\n",
       "      <th>75%</th>\n",
       "      <td>1095.250000</td>\n",
       "      <td>70.000000</td>\n",
       "      <td>80.000000</td>\n",
       "      <td>11601.500000</td>\n",
       "      <td>7.000000</td>\n",
       "      <td>6.000000</td>\n",
       "      <td>2000.000000</td>\n",
       "      <td>2004.000000</td>\n",
       "      <td>166.000000</td>\n",
       "      <td>712.250000</td>\n",
       "      <td>...</td>\n",
       "      <td>168.000000</td>\n",
       "      <td>68.000000</td>\n",
       "      <td>0.000000</td>\n",
       "      <td>0.000000</td>\n",
       "      <td>0.000000</td>\n",
       "      <td>0.000000</td>\n",
       "      <td>0.000000</td>\n",
       "      <td>8.000000</td>\n",
       "      <td>2009.000000</td>\n",
       "      <td>214000.000000</td>\n",
       "    </tr>\n",
       "    <tr>\n",
       "      <th>max</th>\n",
       "      <td>1460.000000</td>\n",
       "      <td>190.000000</td>\n",
       "      <td>313.000000</td>\n",
       "      <td>215245.000000</td>\n",
       "      <td>10.000000</td>\n",
       "      <td>9.000000</td>\n",
       "      <td>2010.000000</td>\n",
       "      <td>2010.000000</td>\n",
       "      <td>1600.000000</td>\n",
       "      <td>5644.000000</td>\n",
       "      <td>...</td>\n",
       "      <td>857.000000</td>\n",
       "      <td>547.000000</td>\n",
       "      <td>552.000000</td>\n",
       "      <td>508.000000</td>\n",
       "      <td>480.000000</td>\n",
       "      <td>738.000000</td>\n",
       "      <td>15500.000000</td>\n",
       "      <td>12.000000</td>\n",
       "      <td>2010.000000</td>\n",
       "      <td>755000.000000</td>\n",
       "    </tr>\n",
       "  </tbody>\n",
       "</table>\n",
       "<p>8 rows × 38 columns</p>\n",
       "</div>"
      ],
      "text/plain": [
       "                Id   MSSubClass  LotFrontage        LotArea  OverallQual  \\\n",
       "count  1460.000000  1460.000000  1201.000000    1460.000000  1460.000000   \n",
       "mean    730.500000    56.897260    70.049958   10516.828082     6.099315   \n",
       "std     421.610009    42.300571    24.284752    9981.264932     1.382997   \n",
       "min       1.000000    20.000000    21.000000    1300.000000     1.000000   \n",
       "25%     365.750000    20.000000    59.000000    7553.500000     5.000000   \n",
       "50%     730.500000    50.000000    69.000000    9478.500000     6.000000   \n",
       "75%    1095.250000    70.000000    80.000000   11601.500000     7.000000   \n",
       "max    1460.000000   190.000000   313.000000  215245.000000    10.000000   \n",
       "\n",
       "       OverallCond    YearBuilt  YearRemodAdd   MasVnrArea   BsmtFinSF1  ...  \\\n",
       "count  1460.000000  1460.000000   1460.000000  1452.000000  1460.000000  ...   \n",
       "mean      5.575342  1971.267808   1984.865753   103.685262   443.639726  ...   \n",
       "std       1.112799    30.202904     20.645407   181.066207   456.098091  ...   \n",
       "min       1.000000  1872.000000   1950.000000     0.000000     0.000000  ...   \n",
       "25%       5.000000  1954.000000   1967.000000     0.000000     0.000000  ...   \n",
       "50%       5.000000  1973.000000   1994.000000     0.000000   383.500000  ...   \n",
       "75%       6.000000  2000.000000   2004.000000   166.000000   712.250000  ...   \n",
       "max       9.000000  2010.000000   2010.000000  1600.000000  5644.000000  ...   \n",
       "\n",
       "        WoodDeckSF  OpenPorchSF  EnclosedPorch    3SsnPorch  ScreenPorch  \\\n",
       "count  1460.000000  1460.000000    1460.000000  1460.000000  1460.000000   \n",
       "mean     94.244521    46.660274      21.954110     3.409589    15.060959   \n",
       "std     125.338794    66.256028      61.119149    29.317331    55.757415   \n",
       "min       0.000000     0.000000       0.000000     0.000000     0.000000   \n",
       "25%       0.000000     0.000000       0.000000     0.000000     0.000000   \n",
       "50%       0.000000    25.000000       0.000000     0.000000     0.000000   \n",
       "75%     168.000000    68.000000       0.000000     0.000000     0.000000   \n",
       "max     857.000000   547.000000     552.000000   508.000000   480.000000   \n",
       "\n",
       "          PoolArea       MiscVal       MoSold       YrSold      SalePrice  \n",
       "count  1460.000000   1460.000000  1460.000000  1460.000000    1460.000000  \n",
       "mean      2.758904     43.489041     6.321918  2007.815753  180921.195890  \n",
       "std      40.177307    496.123024     2.703626     1.328095   79442.502883  \n",
       "min       0.000000      0.000000     1.000000  2006.000000   34900.000000  \n",
       "25%       0.000000      0.000000     5.000000  2007.000000  129975.000000  \n",
       "50%       0.000000      0.000000     6.000000  2008.000000  163000.000000  \n",
       "75%       0.000000      0.000000     8.000000  2009.000000  214000.000000  \n",
       "max     738.000000  15500.000000    12.000000  2010.000000  755000.000000  \n",
       "\n",
       "[8 rows x 38 columns]"
      ]
     },
     "execution_count": 11,
     "metadata": {},
     "output_type": "execute_result"
    }
   ],
   "source": [
    "df.describe()"
   ]
  },
  {
   "cell_type": "markdown",
   "metadata": {},
   "source": [
    "## Handling Missing Data"
   ]
  },
  {
   "cell_type": "markdown",
   "metadata": {},
   "source": [
    "As seen before, we have 19 features with missing values. We will categorize each feature into a group depending on its percentage level.\n",
    "The first group consists of 4 features [ **PoolQC, MiscFeature, Alley, Fence**] with > 80% of missing data.\n",
    "The second group consists of 2 features [ **MasVnrType, FireplaceQu**] containing roughly 50% of missing data.\n",
    "The third group consists of 13 features  containing less than 20% of missing data.\n",
    "\n",
    "Let's inspect each group to device a strategy to handle their missing data."
   ]
  },
  {
   "cell_type": "code",
   "execution_count": 12,
   "metadata": {},
   "outputs": [
    {
     "data": {
      "text/plain": [
       "Index(['MSZoning', 'Street', 'Alley', 'LotShape', 'LandContour', 'Utilities',\n",
       "       'LotConfig', 'LandSlope', 'Neighborhood', 'Condition1', 'Condition2',\n",
       "       'BldgType', 'HouseStyle', 'RoofStyle', 'RoofMatl', 'Exterior1st',\n",
       "       'Exterior2nd', 'MasVnrType', 'ExterQual', 'ExterCond', 'Foundation',\n",
       "       'BsmtQual', 'BsmtCond', 'BsmtExposure', 'BsmtFinType1', 'BsmtFinType2',\n",
       "       'Heating', 'HeatingQC', 'CentralAir', 'Electrical', 'KitchenQual',\n",
       "       'Functional', 'FireplaceQu', 'GarageType', 'GarageFinish', 'GarageQual',\n",
       "       'GarageCond', 'PavedDrive', 'PoolQC', 'Fence', 'MiscFeature',\n",
       "       'SaleType', 'SaleCondition'],\n",
       "      dtype='object')"
      ]
     },
     "execution_count": 12,
     "metadata": {},
     "output_type": "execute_result"
    }
   ],
   "source": [
    "#Categorical columns\n",
    "df.select_dtypes([\"object\"]).columns"
   ]
  },
  {
   "cell_type": "markdown",
   "metadata": {},
   "source": [
    "### First group"
   ]
  },
  {
   "cell_type": "markdown",
   "metadata": {},
   "source": [
    "Feature: PoolQC -> Pool Quality. Category Missing data percentage : 99.5 %."
   ]
  },
  {
   "cell_type": "code",
   "execution_count": 13,
   "metadata": {},
   "outputs": [
    {
     "data": {
      "text/plain": [
       "PoolArea    0\n",
       "dtype: int64"
      ]
     },
     "execution_count": 13,
     "metadata": {},
     "output_type": "execute_result"
    }
   ],
   "source": [
    "#extract rows where pool quality is zero, analyze the result to see if tehre is a pattern\n",
    "df.loc[df[\"PoolQC\"].isnull(), [\"PoolArea\"]].sum()\n"
   ]
  },
  {
   "cell_type": "code",
   "execution_count": 14,
   "metadata": {},
   "outputs": [
    {
     "data": {
      "text/plain": [
       "np.int64(7)"
      ]
     },
     "execution_count": 14,
     "metadata": {},
     "output_type": "execute_result"
    }
   ],
   "source": [
    "df[\"PoolArea\"].loc[df[\"PoolArea\"] > 0.0].count()"
   ]
  },
  {
   "cell_type": "markdown",
   "metadata": {},
   "source": [
    "Conclusion: The previous analysis helped us to find that a NaN value for PoolQC corresponds to the default value from the extracted database. A null PoolQC value matches a corresponding PoolArea of 0.0, thus, we conclude that these cases denote that this property **does not include a pool**. \n",
    "\n",
    "With 99.52% of missing data it is safe to remove from the dataset both **PoolQC and PoolArea**"
   ]
  },
  {
   "cell_type": "code",
   "execution_count": 15,
   "metadata": {},
   "outputs": [],
   "source": [
    "cols_to_remove = [\"PoolQC\",\"PoolArea\"]"
   ]
  },
  {
   "cell_type": "markdown",
   "metadata": {},
   "source": [
    "Feature: MiscFeature -> Miscelanious features. Category Missing data percentage : 96.3 %."
   ]
  },
  {
   "cell_type": "code",
   "execution_count": 16,
   "metadata": {},
   "outputs": [
    {
     "data": {
      "text/plain": [
       "count       54\n",
       "unique       4\n",
       "top       Shed\n",
       "freq        49\n",
       "Name: MiscFeature, dtype: object"
      ]
     },
     "execution_count": 16,
     "metadata": {},
     "output_type": "execute_result"
    }
   ],
   "source": [
    "df[\"MiscFeature\"].describe()"
   ]
  },
  {
   "cell_type": "code",
   "execution_count": 17,
   "metadata": {},
   "outputs": [
    {
     "data": {
      "text/plain": [
       "MiscFeature\n",
       "Shed    49\n",
       "Gar2     2\n",
       "Othr     2\n",
       "TenC     1\n",
       "Name: count, dtype: int64"
      ]
     },
     "execution_count": 17,
     "metadata": {},
     "output_type": "execute_result"
    }
   ],
   "source": [
    "df[\"MiscFeature\"].value_counts()"
   ]
  },
  {
   "cell_type": "markdown",
   "metadata": {},
   "source": [
    "Correlation analysis MiscFeature with house pricing "
   ]
  },
  {
   "cell_type": "code",
   "execution_count": 18,
   "metadata": {},
   "outputs": [
    {
     "name": "stdout",
     "output_type": "stream",
     "text": [
      "Misc Feature stats : (array([0, 1, 2, 3, 4]), array([   2,    2,   49,    1, 1406]))\n"
     ]
    }
   ],
   "source": [
    "misc_feat_enc = LabelEncoder().fit_transform(df[\"MiscFeature\"])\n",
    "print(f\"Misc Feature stats : {np.unique(misc_feat_enc,return_counts=True)}\")\n",
    "df_temp = pd.DataFrame({\n",
    "    \"MiscFeatureEnc\" : misc_feat_enc\n",
    "})"
   ]
  },
  {
   "cell_type": "code",
   "execution_count": 19,
   "metadata": {},
   "outputs": [
    {
     "data": {
      "text/plain": [
       "<Axes: >"
      ]
     },
     "execution_count": 19,
     "metadata": {},
     "output_type": "execute_result"
    },
    {
     "data": {
      "image/png": "[encoded data removed]",
      "text/plain": [
       "<Figure size 640x480 with 2 Axes>"
      ]
     },
     "metadata": {},
     "output_type": "display_data"
    }
   ],
   "source": [
    "sns.heatmap(data=pd.concat([df_temp,df[\"SalePrice\"]],axis=1).corr(),annot=True)"
   ]
  },
  {
   "cell_type": "markdown",
   "metadata": {},
   "source": [
    "Conclusion: This feature implicates the presence of aggregated features that may be useful for the prediction, encoded as a categorical variable. Thus, any house that lefts this cell empty means that it did not include any extra information (default null in database). The previous correlation analysis highlights that this feature has nearly zero correlation with House Sales Prices, probably adding this feature to the data modeling will not contribute to a better house price prediciton. We omit this feature."
   ]
  },
  {
   "cell_type": "code",
   "execution_count": 20,
   "metadata": {},
   "outputs": [],
   "source": [
    "cols_to_remove.append(\"MiscFeature\")"
   ]
  },
  {
   "cell_type": "markdown",
   "metadata": {},
   "source": [
    "Feature: Alley. Category Missing data percentage : 93.7 %.\n",
    "Assumption: Null value means that the property does not possess alley"
   ]
  },
  {
   "cell_type": "code",
   "execution_count": 21,
   "metadata": {},
   "outputs": [
    {
     "data": {
      "text/plain": [
       "Alley\n",
       "Grvl    50\n",
       "Pave    41\n",
       "Name: count, dtype: int64"
      ]
     },
     "execution_count": 21,
     "metadata": {},
     "output_type": "execute_result"
    }
   ],
   "source": [
    "df[\"Alley\"].value_counts()"
   ]
  },
  {
   "cell_type": "markdown",
   "metadata": {},
   "source": [
    "Correlation analysis Alley with house pricing "
   ]
  },
  {
   "cell_type": "code",
   "execution_count": 22,
   "metadata": {},
   "outputs": [
    {
     "name": "stdout",
     "output_type": "stream",
     "text": [
      "Alley stats : (array([0, 1, 2]), array([  50,   41, 1369]))\n"
     ]
    }
   ],
   "source": [
    "misc_alley_enc = LabelEncoder().fit_transform(df[\"Alley\"])\n",
    "print(f\"Alley stats : {np.unique(misc_alley_enc,return_counts=True)}\")\n",
    "df_temp = pd.DataFrame({\n",
    "    \"AlleyEnc\" : misc_alley_enc\n",
    "})"
   ]
  },
  {
   "cell_type": "code",
   "execution_count": 23,
   "metadata": {},
   "outputs": [
    {
     "data": {
      "text/plain": [
       "<Axes: >"
      ]
     },
     "execution_count": 23,
     "metadata": {},
     "output_type": "execute_result"
    },
    {
     "data": {
      "image/png": "[encoded data removed]",
      "text/plain": [
       "<Figure size 640x480 with 2 Axes>"
      ]
     },
     "metadata": {},
     "output_type": "display_data"
    }
   ],
   "source": [
    "sns.heatmap(data=pd.concat([df_temp,df[\"SalePrice\"]],axis=1).corr(),annot=True)"
   ]
  },
  {
   "cell_type": "code",
   "execution_count": 24,
   "metadata": {},
   "outputs": [
    {
     "data": {
      "text/plain": [
       "<seaborn.axisgrid.PairGrid at 0x1c11f197550>"
      ]
     },
     "execution_count": 24,
     "metadata": {},
     "output_type": "execute_result"
    },
    {
     "data": {
      "image/png": "[encoded data removed]",
      "text/plain": [
       "<Figure size 500x500 with 6 Axes>"
      ]
     },
     "metadata": {},
     "output_type": "display_data"
    }
   ],
   "source": [
    "sns.pairplot(data=pd.concat([df_temp,df[\"SalePrice\"]]))"
   ]
  },
  {
   "cell_type": "markdown",
   "metadata": {},
   "source": [
    "Conclusion: In the lowest range of house prices, from 0 to rougly 300k, seems that price increase is independent of Alley type. Looking at the distribution of SalesPrice Data, it exhibits a normal distribution with mean around 150k, therefore the house with prices > 300K are the minority, the \"No Alley\" category from this range and upward may not contribute to effectively predicting the house prices in this dataset. We discard this feature for the House Pricing Predictor."
   ]
  },
  {
   "cell_type": "code",
   "execution_count": 25,
   "metadata": {},
   "outputs": [],
   "source": [
    "cols_to_remove.append(\"Alley\")"
   ]
  },
  {
   "cell_type": "markdown",
   "metadata": {},
   "source": [
    "Feature: Fence -> Fence Quality. Category Missing data percentage : 80.75 %.\n",
    "Assumption: Null value means that the property does not possess Fence"
   ]
  },
  {
   "cell_type": "code",
   "execution_count": 26,
   "metadata": {},
   "outputs": [
    {
     "data": {
      "text/plain": [
       "Fence\n",
       "MnPrv    157\n",
       "GdPrv     59\n",
       "GdWo      54\n",
       "MnWw      11\n",
       "Name: count, dtype: int64"
      ]
     },
     "execution_count": 26,
     "metadata": {},
     "output_type": "execute_result"
    }
   ],
   "source": [
    "df[\"Fence\"].value_counts()"
   ]
  },
  {
   "cell_type": "markdown",
   "metadata": {},
   "source": [
    "Correlation analysis Fence with house pricing "
   ]
  },
  {
   "cell_type": "code",
   "execution_count": 27,
   "metadata": {},
   "outputs": [
    {
     "name": "stdout",
     "output_type": "stream",
     "text": [
      "Fence stats : (array([0, 1, 2, 3, 4]), array([  59,   54,  157,   11, 1179]))\n"
     ]
    }
   ],
   "source": [
    "misc_fence_enc = LabelEncoder().fit_transform(df[\"Fence\"])\n",
    "print(f\"Fence stats : {np.unique(misc_fence_enc,return_counts=True)}\")\n",
    "df_temp = pd.DataFrame({\n",
    "    \"FenceEnc\" : misc_fence_enc\n",
    "})"
   ]
  },
  {
   "cell_type": "code",
   "execution_count": 28,
   "metadata": {},
   "outputs": [
    {
     "data": {
      "text/plain": [
       "<Axes: >"
      ]
     },
     "execution_count": 28,
     "metadata": {},
     "output_type": "execute_result"
    },
    {
     "data": {
      "image/png": "[encoded data removed]",
      "text/plain": [
       "<Figure size 640x480 with 2 Axes>"
      ]
     },
     "metadata": {},
     "output_type": "display_data"
    }
   ],
   "source": [
    "sns.heatmap(data=pd.concat([df_temp,df[\"SalePrice\"]],axis=1).corr(),annot=True)"
   ]
  },
  {
   "cell_type": "code",
   "execution_count": 29,
   "metadata": {},
   "outputs": [
    {
     "data": {
      "text/plain": [
       "<seaborn.axisgrid.PairGrid at 0x1c123978850>"
      ]
     },
     "execution_count": 29,
     "metadata": {},
     "output_type": "execute_result"
    },
    {
     "data": {
      "image/png": "[encoded data removed]",
      "text/plain": [
       "<Figure size 500x500 with 6 Axes>"
      ]
     },
     "metadata": {},
     "output_type": "display_data"
    }
   ],
   "source": [
    "sns.pairplot(data=pd.concat([df_temp,df[\"SalePrice\"]]))"
   ]
  },
  {
   "cell_type": "markdown",
   "metadata": {},
   "source": [
    "For a stronger analysis, let's preserve FenceEnc values that lies within the Interquartile Range of SalePrice normal distribution"
   ]
  },
  {
   "cell_type": "code",
   "execution_count": 30,
   "metadata": {},
   "outputs": [
    {
     "data": {
      "text/plain": [
       "count      1460.000000\n",
       "mean     180921.195890\n",
       "std       79442.502883\n",
       "min       34900.000000\n",
       "25%      129975.000000\n",
       "50%      163000.000000\n",
       "75%      214000.000000\n",
       "max      755000.000000\n",
       "Name: SalePrice, dtype: float64"
      ]
     },
     "execution_count": 30,
     "metadata": {},
     "output_type": "execute_result"
    }
   ],
   "source": [
    "df[\"SalePrice\"].describe()"
   ]
  },
  {
   "cell_type": "code",
   "execution_count": 31,
   "metadata": {},
   "outputs": [],
   "source": [
    "df_saleprice_ir = df[\"SalePrice\"][(df[\"SalePrice\"] >= 129975) & (df[\"SalePrice\"] <= 214000)]\n",
    "df_fence_enc_ir = df_temp.iloc[df_saleprice_ir.index]"
   ]
  },
  {
   "cell_type": "code",
   "execution_count": 32,
   "metadata": {},
   "outputs": [
    {
     "data": {
      "text/plain": [
       "<seaborn.axisgrid.PairGrid at 0x1c124b75f50>"
      ]
     },
     "execution_count": 32,
     "metadata": {},
     "output_type": "execute_result"
    },
    {
     "data": {
      "image/png": "[encoded data removed]",
      "text/plain": [
       "<Figure size 500x500 with 6 Axes>"
      ]
     },
     "metadata": {},
     "output_type": "display_data"
    }
   ],
   "source": [
    "\n",
    "sns.pairplot(data=pd.concat([df_fence_enc_ir,df_saleprice_ir]))\n"
   ]
  },
  {
   "cell_type": "markdown",
   "metadata": {},
   "source": [
    "Previous plot shows the distribution of **Fence** variable datapoints with respect to the distribution of the interquartile **SalePrice** variable. There are 3 categories from Fence that their data intervals superpose with each other as the SalePrice range increases, therefore, it would be extremely odd that this feature provides any prediction capability to the model. We chose to discard this feature."
   ]
  },
  {
   "cell_type": "code",
   "execution_count": 33,
   "metadata": {},
   "outputs": [],
   "source": [
    "cols_to_remove.append(\"Fence\")"
   ]
  },
  {
   "cell_type": "markdown",
   "metadata": {},
   "source": [
    "### Second group"
   ]
  },
  {
   "cell_type": "markdown",
   "metadata": {},
   "source": [
    "Feature: MasVnrType -> Masonry veneer type. Category. Missing data percentage : 59.72 %."
   ]
  },
  {
   "cell_type": "code",
   "execution_count": 34,
   "metadata": {},
   "outputs": [
    {
     "data": {
      "text/html": [
       "<div>\n",
       "<style scoped>\n",
       "    .dataframe tbody tr th:only-of-type {\n",
       "        vertical-align: middle;\n",
       "    }\n",
       "\n",
       "    .dataframe tbody tr th {\n",
       "        vertical-align: top;\n",
       "    }\n",
       "\n",
       "    .dataframe thead th {\n",
       "        text-align: right;\n",
       "    }\n",
       "</style>\n",
       "<table border=\"1\" class=\"dataframe\">\n",
       "  <thead>\n",
       "    <tr style=\"text-align: right;\">\n",
       "      <th></th>\n",
       "      <th>MasVnrArea</th>\n",
       "    </tr>\n",
       "  </thead>\n",
       "  <tbody>\n",
       "    <tr>\n",
       "      <th>1</th>\n",
       "      <td>0.0</td>\n",
       "    </tr>\n",
       "    <tr>\n",
       "      <th>3</th>\n",
       "      <td>0.0</td>\n",
       "    </tr>\n",
       "    <tr>\n",
       "      <th>5</th>\n",
       "      <td>0.0</td>\n",
       "    </tr>\n",
       "    <tr>\n",
       "      <th>8</th>\n",
       "      <td>0.0</td>\n",
       "    </tr>\n",
       "    <tr>\n",
       "      <th>9</th>\n",
       "      <td>0.0</td>\n",
       "    </tr>\n",
       "    <tr>\n",
       "      <th>...</th>\n",
       "      <td>...</td>\n",
       "    </tr>\n",
       "    <tr>\n",
       "      <th>1454</th>\n",
       "      <td>0.0</td>\n",
       "    </tr>\n",
       "    <tr>\n",
       "      <th>1455</th>\n",
       "      <td>0.0</td>\n",
       "    </tr>\n",
       "    <tr>\n",
       "      <th>1457</th>\n",
       "      <td>0.0</td>\n",
       "    </tr>\n",
       "    <tr>\n",
       "      <th>1458</th>\n",
       "      <td>0.0</td>\n",
       "    </tr>\n",
       "    <tr>\n",
       "      <th>1459</th>\n",
       "      <td>0.0</td>\n",
       "    </tr>\n",
       "  </tbody>\n",
       "</table>\n",
       "<p>872 rows × 1 columns</p>\n",
       "</div>"
      ],
      "text/plain": [
       "      MasVnrArea\n",
       "1            0.0\n",
       "3            0.0\n",
       "5            0.0\n",
       "8            0.0\n",
       "9            0.0\n",
       "...          ...\n",
       "1454         0.0\n",
       "1455         0.0\n",
       "1457         0.0\n",
       "1458         0.0\n",
       "1459         0.0\n",
       "\n",
       "[872 rows x 1 columns]"
      ]
     },
     "execution_count": 34,
     "metadata": {},
     "output_type": "execute_result"
    }
   ],
   "source": [
    "df.loc[df[\"MasVnrType\"].isnull(), [\"MasVnrArea\"]]"
   ]
  },
  {
   "cell_type": "code",
   "execution_count": 35,
   "metadata": {},
   "outputs": [
    {
     "data": {
      "text/plain": [
       "MasVnrArea\n",
       "0.0           859\n",
       "1.0             2\n",
       "288.0           1\n",
       "312.0           1\n",
       "344.0           1\n",
       "Name: count, dtype: int64"
      ]
     },
     "execution_count": 35,
     "metadata": {},
     "output_type": "execute_result"
    }
   ],
   "source": [
    "#extract rows where MasVnrType is zero, analyze the result with MasVnrArea to see if tehre is a pattern\n",
    "df.loc[df[\"MasVnrType\"].isnull(), [\"MasVnrArea\"]].value_counts()"
   ]
  },
  {
   "cell_type": "markdown",
   "metadata": {},
   "source": [
    "Conclusion: MasVnrType contains **872** NaN values. If we match the rows where this feature equals Nan and extract feature **MasVnrArea**, which is the area of masonry, we get **859** data points with an area of masonry equals 0.0. It is safe to assume that a NaN value means that the corresponding house was not built using masonry crafting techniques. We will assign this Nan value a category for the feature."
   ]
  },
  {
   "cell_type": "code",
   "execution_count": 36,
   "metadata": {},
   "outputs": [
    {
     "name": "stderr",
     "output_type": "stream",
     "text": [
      "C:\\Users\\kevin\\AppData\\Local\\Temp\\ipykernel_35888\\3666314799.py:1: FutureWarning: A value is trying to be set on a copy of a DataFrame or Series through chained assignment using an inplace method.\n",
      "The behavior will change in pandas 3.0. This inplace method will never work because the intermediate object on which we are setting values always behaves as a copy.\n",
      "\n",
      "For example, when doing 'df[col].method(value, inplace=True)', try using 'df.method({col: value}, inplace=True)' or df[col] = df[col].method(value) instead, to perform the operation inplace on the original object.\n",
      "\n",
      "\n",
      "  df[\"MasVnrType\"].fillna(\"NoMasonry\",inplace=True)\n"
     ]
    }
   ],
   "source": [
    "df[\"MasVnrType\"].fillna(\"NoMasonry\",inplace=True)"
   ]
  },
  {
   "cell_type": "markdown",
   "metadata": {},
   "source": [
    "Feature: FireplaceQu -> Fireplace quality. Category. Missing data percentage : 47.26 %."
   ]
  },
  {
   "cell_type": "code",
   "execution_count": 37,
   "metadata": {},
   "outputs": [
    {
     "data": {
      "text/plain": [
       "Fireplaces\n",
       "0             690\n",
       "Name: count, dtype: int64"
      ]
     },
     "execution_count": 37,
     "metadata": {},
     "output_type": "execute_result"
    }
   ],
   "source": [
    "#extract rows where FireplaceQu is zero, analyze the result with Fireplaces to see if tehre is a pattern\n",
    "df.loc[df[\"FireplaceQu\"].isnull(), [\"Fireplaces\"]].value_counts()"
   ]
  },
  {
   "cell_type": "markdown",
   "metadata": {},
   "source": [
    "Evidently, Nan Values in FireplaceQu means the house does not has fireplaces. We fill Nan values accordingly. *Check in the feature selection step for possible colinearity between these two features.*"
   ]
  },
  {
   "cell_type": "code",
   "execution_count": 38,
   "metadata": {},
   "outputs": [
    {
     "name": "stderr",
     "output_type": "stream",
     "text": [
      "C:\\Users\\kevin\\AppData\\Local\\Temp\\ipykernel_35888\\4222465852.py:1: FutureWarning: A value is trying to be set on a copy of a DataFrame or Series through chained assignment using an inplace method.\n",
      "The behavior will change in pandas 3.0. This inplace method will never work because the intermediate object on which we are setting values always behaves as a copy.\n",
      "\n",
      "For example, when doing 'df[col].method(value, inplace=True)', try using 'df.method({col: value}, inplace=True)' or df[col] = df[col].method(value) instead, to perform the operation inplace on the original object.\n",
      "\n",
      "\n",
      "  df[\"FireplaceQu\"].fillna(\"NoFireplace\",inplace=True)\n"
     ]
    }
   ],
   "source": [
    "df[\"FireplaceQu\"].fillna(\"NoFireplace\",inplace=True)"
   ]
  },
  {
   "cell_type": "markdown",
   "metadata": {},
   "source": [
    "### Third group"
   ]
  },
  {
   "cell_type": "markdown",
   "metadata": {},
   "source": [
    "Features : Garage* . Categorical variables. Number of garage variables with missing data: 5. Missing data percentage per variable: 5.54 %."
   ]
  },
  {
   "cell_type": "code",
   "execution_count": 39,
   "metadata": {},
   "outputs": [
    {
     "data": {
      "text/plain": [
       "False    1379\n",
       "True       81\n",
       "Name: count, dtype: int64"
      ]
     },
     "execution_count": 39,
     "metadata": {},
     "output_type": "execute_result"
    }
   ],
   "source": [
    "df[[\"GarageType\",\"GarageYrBlt\",\"GarageFinish\",\"GarageQual\",\"GarageCond\"]].isnull().any(axis=1).value_counts()"
   ]
  },
  {
   "cell_type": "code",
   "execution_count": 40,
   "metadata": {},
   "outputs": [
    {
     "data": {
      "text/plain": [
       "np.True_"
      ]
     },
     "execution_count": 40,
     "metadata": {},
     "output_type": "execute_result"
    }
   ],
   "source": [
    "miss_data_garage = df[[\"GarageType\",\"GarageYrBlt\",\"GarageFinish\",\"GarageQual\",\"GarageCond\"]].isnull()\n",
    "miss_data_garage.loc[miss_data_garage[\"GarageType\"] == True].all(axis=1).all()"
   ]
  },
  {
   "cell_type": "markdown",
   "metadata": {},
   "source": [
    "Evidently, these 5 features identically matches their corresponding missing value rows with each other.\n",
    "Let us investigate further to conclude if this Nan value means the house lacks garage zone."
   ]
  },
  {
   "cell_type": "code",
   "execution_count": 41,
   "metadata": {},
   "outputs": [
    {
     "data": {
      "text/plain": [
       "GarageCars  GarageArea\n",
       "0           0             81\n",
       "Name: count, dtype: int64"
      ]
     },
     "execution_count": 41,
     "metadata": {},
     "output_type": "execute_result"
    }
   ],
   "source": [
    "df.loc[miss_data_garage.loc[miss_data_garage[\"GarageType\"] == True].index,[\"GarageCars\", \"GarageArea\"]].value_counts()"
   ]
  },
  {
   "cell_type": "markdown",
   "metadata": {},
   "source": [
    "Conclusion: It is obvious that the missing data from the Garage categorical columns correspond with garage cars and area with area of zero, this means that these houses does not include garage. We fill these Nan values with NoGarage category"
   ]
  },
  {
   "cell_type": "code",
   "execution_count": 42,
   "metadata": {},
   "outputs": [],
   "source": [
    "values = {\n",
    "    \"GarageType\" : \"NoGarage\",\"GarageFinish\" : \"NoGarage\",\"GarageQual\" : \"NoGarage\",\"GarageCond\" : \"NoGarage\",\n",
    "    \"GarageYrBlt\" : 0.0\n",
    "}\n",
    "df.fillna(values,inplace=True)"
   ]
  },
  {
   "cell_type": "markdown",
   "metadata": {},
   "source": [
    "Features : Bsmt* . Categorical variables. Number of Basement variables with missing data: 5. Missing data percentage per variable: 2.6, 2.53 %."
   ]
  },
  {
   "cell_type": "code",
   "execution_count": 43,
   "metadata": {},
   "outputs": [],
   "source": [
    "indices_missing_data_bmst = df.loc[df[[\"BsmtExposure\", \"BsmtFinType2\", \"BsmtQual\", \"BsmtCond\", \"BsmtFinType1\"]].isnull().any(axis=1).values].index"
   ]
  },
  {
   "cell_type": "code",
   "execution_count": 44,
   "metadata": {},
   "outputs": [
    {
     "data": {
      "text/html": [
       "<div>\n",
       "<style scoped>\n",
       "    .dataframe tbody tr th:only-of-type {\n",
       "        vertical-align: middle;\n",
       "    }\n",
       "\n",
       "    .dataframe tbody tr th {\n",
       "        vertical-align: top;\n",
       "    }\n",
       "\n",
       "    .dataframe thead th {\n",
       "        text-align: right;\n",
       "    }\n",
       "</style>\n",
       "<table border=\"1\" class=\"dataframe\">\n",
       "  <thead>\n",
       "    <tr style=\"text-align: right;\">\n",
       "      <th></th>\n",
       "      <th>BsmtExposure</th>\n",
       "      <th>BsmtFinType2</th>\n",
       "      <th>BsmtQual</th>\n",
       "      <th>BsmtCond</th>\n",
       "      <th>BsmtFinType1</th>\n",
       "      <th>TotalBsmtSF</th>\n",
       "      <th>BsmtUnfSF</th>\n",
       "      <th>BsmtFullBath</th>\n",
       "      <th>BsmtHalfBath</th>\n",
       "    </tr>\n",
       "  </thead>\n",
       "  <tbody>\n",
       "    <tr>\n",
       "      <th>17</th>\n",
       "      <td>NaN</td>\n",
       "      <td>NaN</td>\n",
       "      <td>NaN</td>\n",
       "      <td>NaN</td>\n",
       "      <td>NaN</td>\n",
       "      <td>0</td>\n",
       "      <td>0</td>\n",
       "      <td>0</td>\n",
       "      <td>0</td>\n",
       "    </tr>\n",
       "    <tr>\n",
       "      <th>39</th>\n",
       "      <td>NaN</td>\n",
       "      <td>NaN</td>\n",
       "      <td>NaN</td>\n",
       "      <td>NaN</td>\n",
       "      <td>NaN</td>\n",
       "      <td>0</td>\n",
       "      <td>0</td>\n",
       "      <td>0</td>\n",
       "      <td>0</td>\n",
       "    </tr>\n",
       "    <tr>\n",
       "      <th>90</th>\n",
       "      <td>NaN</td>\n",
       "      <td>NaN</td>\n",
       "      <td>NaN</td>\n",
       "      <td>NaN</td>\n",
       "      <td>NaN</td>\n",
       "      <td>0</td>\n",
       "      <td>0</td>\n",
       "      <td>0</td>\n",
       "      <td>0</td>\n",
       "    </tr>\n",
       "    <tr>\n",
       "      <th>102</th>\n",
       "      <td>NaN</td>\n",
       "      <td>NaN</td>\n",
       "      <td>NaN</td>\n",
       "      <td>NaN</td>\n",
       "      <td>NaN</td>\n",
       "      <td>0</td>\n",
       "      <td>0</td>\n",
       "      <td>0</td>\n",
       "      <td>0</td>\n",
       "    </tr>\n",
       "    <tr>\n",
       "      <th>156</th>\n",
       "      <td>NaN</td>\n",
       "      <td>NaN</td>\n",
       "      <td>NaN</td>\n",
       "      <td>NaN</td>\n",
       "      <td>NaN</td>\n",
       "      <td>0</td>\n",
       "      <td>0</td>\n",
       "      <td>0</td>\n",
       "      <td>0</td>\n",
       "    </tr>\n",
       "    <tr>\n",
       "      <th>182</th>\n",
       "      <td>NaN</td>\n",
       "      <td>NaN</td>\n",
       "      <td>NaN</td>\n",
       "      <td>NaN</td>\n",
       "      <td>NaN</td>\n",
       "      <td>0</td>\n",
       "      <td>0</td>\n",
       "      <td>0</td>\n",
       "      <td>0</td>\n",
       "    </tr>\n",
       "    <tr>\n",
       "      <th>259</th>\n",
       "      <td>NaN</td>\n",
       "      <td>NaN</td>\n",
       "      <td>NaN</td>\n",
       "      <td>NaN</td>\n",
       "      <td>NaN</td>\n",
       "      <td>0</td>\n",
       "      <td>0</td>\n",
       "      <td>0</td>\n",
       "      <td>0</td>\n",
       "    </tr>\n",
       "    <tr>\n",
       "      <th>332</th>\n",
       "      <td>No</td>\n",
       "      <td>NaN</td>\n",
       "      <td>Gd</td>\n",
       "      <td>TA</td>\n",
       "      <td>GLQ</td>\n",
       "      <td>3206</td>\n",
       "      <td>1603</td>\n",
       "      <td>1</td>\n",
       "      <td>0</td>\n",
       "    </tr>\n",
       "    <tr>\n",
       "      <th>342</th>\n",
       "      <td>NaN</td>\n",
       "      <td>NaN</td>\n",
       "      <td>NaN</td>\n",
       "      <td>NaN</td>\n",
       "      <td>NaN</td>\n",
       "      <td>0</td>\n",
       "      <td>0</td>\n",
       "      <td>0</td>\n",
       "      <td>0</td>\n",
       "    </tr>\n",
       "    <tr>\n",
       "      <th>362</th>\n",
       "      <td>NaN</td>\n",
       "      <td>NaN</td>\n",
       "      <td>NaN</td>\n",
       "      <td>NaN</td>\n",
       "      <td>NaN</td>\n",
       "      <td>0</td>\n",
       "      <td>0</td>\n",
       "      <td>0</td>\n",
       "      <td>0</td>\n",
       "    </tr>\n",
       "    <tr>\n",
       "      <th>371</th>\n",
       "      <td>NaN</td>\n",
       "      <td>NaN</td>\n",
       "      <td>NaN</td>\n",
       "      <td>NaN</td>\n",
       "      <td>NaN</td>\n",
       "      <td>0</td>\n",
       "      <td>0</td>\n",
       "      <td>0</td>\n",
       "      <td>0</td>\n",
       "    </tr>\n",
       "    <tr>\n",
       "      <th>392</th>\n",
       "      <td>NaN</td>\n",
       "      <td>NaN</td>\n",
       "      <td>NaN</td>\n",
       "      <td>NaN</td>\n",
       "      <td>NaN</td>\n",
       "      <td>0</td>\n",
       "      <td>0</td>\n",
       "      <td>0</td>\n",
       "      <td>0</td>\n",
       "    </tr>\n",
       "    <tr>\n",
       "      <th>520</th>\n",
       "      <td>NaN</td>\n",
       "      <td>NaN</td>\n",
       "      <td>NaN</td>\n",
       "      <td>NaN</td>\n",
       "      <td>NaN</td>\n",
       "      <td>0</td>\n",
       "      <td>0</td>\n",
       "      <td>0</td>\n",
       "      <td>0</td>\n",
       "    </tr>\n",
       "    <tr>\n",
       "      <th>532</th>\n",
       "      <td>NaN</td>\n",
       "      <td>NaN</td>\n",
       "      <td>NaN</td>\n",
       "      <td>NaN</td>\n",
       "      <td>NaN</td>\n",
       "      <td>0</td>\n",
       "      <td>0</td>\n",
       "      <td>0</td>\n",
       "      <td>0</td>\n",
       "    </tr>\n",
       "    <tr>\n",
       "      <th>533</th>\n",
       "      <td>NaN</td>\n",
       "      <td>NaN</td>\n",
       "      <td>NaN</td>\n",
       "      <td>NaN</td>\n",
       "      <td>NaN</td>\n",
       "      <td>0</td>\n",
       "      <td>0</td>\n",
       "      <td>0</td>\n",
       "      <td>0</td>\n",
       "    </tr>\n",
       "    <tr>\n",
       "      <th>553</th>\n",
       "      <td>NaN</td>\n",
       "      <td>NaN</td>\n",
       "      <td>NaN</td>\n",
       "      <td>NaN</td>\n",
       "      <td>NaN</td>\n",
       "      <td>0</td>\n",
       "      <td>0</td>\n",
       "      <td>0</td>\n",
       "      <td>0</td>\n",
       "    </tr>\n",
       "    <tr>\n",
       "      <th>646</th>\n",
       "      <td>NaN</td>\n",
       "      <td>NaN</td>\n",
       "      <td>NaN</td>\n",
       "      <td>NaN</td>\n",
       "      <td>NaN</td>\n",
       "      <td>0</td>\n",
       "      <td>0</td>\n",
       "      <td>0</td>\n",
       "      <td>0</td>\n",
       "    </tr>\n",
       "    <tr>\n",
       "      <th>705</th>\n",
       "      <td>NaN</td>\n",
       "      <td>NaN</td>\n",
       "      <td>NaN</td>\n",
       "      <td>NaN</td>\n",
       "      <td>NaN</td>\n",
       "      <td>0</td>\n",
       "      <td>0</td>\n",
       "      <td>0</td>\n",
       "      <td>0</td>\n",
       "    </tr>\n",
       "    <tr>\n",
       "      <th>736</th>\n",
       "      <td>NaN</td>\n",
       "      <td>NaN</td>\n",
       "      <td>NaN</td>\n",
       "      <td>NaN</td>\n",
       "      <td>NaN</td>\n",
       "      <td>0</td>\n",
       "      <td>0</td>\n",
       "      <td>0</td>\n",
       "      <td>0</td>\n",
       "    </tr>\n",
       "    <tr>\n",
       "      <th>749</th>\n",
       "      <td>NaN</td>\n",
       "      <td>NaN</td>\n",
       "      <td>NaN</td>\n",
       "      <td>NaN</td>\n",
       "      <td>NaN</td>\n",
       "      <td>0</td>\n",
       "      <td>0</td>\n",
       "      <td>0</td>\n",
       "      <td>0</td>\n",
       "    </tr>\n",
       "    <tr>\n",
       "      <th>778</th>\n",
       "      <td>NaN</td>\n",
       "      <td>NaN</td>\n",
       "      <td>NaN</td>\n",
       "      <td>NaN</td>\n",
       "      <td>NaN</td>\n",
       "      <td>0</td>\n",
       "      <td>0</td>\n",
       "      <td>0</td>\n",
       "      <td>0</td>\n",
       "    </tr>\n",
       "    <tr>\n",
       "      <th>868</th>\n",
       "      <td>NaN</td>\n",
       "      <td>NaN</td>\n",
       "      <td>NaN</td>\n",
       "      <td>NaN</td>\n",
       "      <td>NaN</td>\n",
       "      <td>0</td>\n",
       "      <td>0</td>\n",
       "      <td>0</td>\n",
       "      <td>0</td>\n",
       "    </tr>\n",
       "    <tr>\n",
       "      <th>894</th>\n",
       "      <td>NaN</td>\n",
       "      <td>NaN</td>\n",
       "      <td>NaN</td>\n",
       "      <td>NaN</td>\n",
       "      <td>NaN</td>\n",
       "      <td>0</td>\n",
       "      <td>0</td>\n",
       "      <td>0</td>\n",
       "      <td>0</td>\n",
       "    </tr>\n",
       "    <tr>\n",
       "      <th>897</th>\n",
       "      <td>NaN</td>\n",
       "      <td>NaN</td>\n",
       "      <td>NaN</td>\n",
       "      <td>NaN</td>\n",
       "      <td>NaN</td>\n",
       "      <td>0</td>\n",
       "      <td>0</td>\n",
       "      <td>0</td>\n",
       "      <td>0</td>\n",
       "    </tr>\n",
       "    <tr>\n",
       "      <th>948</th>\n",
       "      <td>NaN</td>\n",
       "      <td>Unf</td>\n",
       "      <td>Gd</td>\n",
       "      <td>TA</td>\n",
       "      <td>Unf</td>\n",
       "      <td>936</td>\n",
       "      <td>936</td>\n",
       "      <td>0</td>\n",
       "      <td>0</td>\n",
       "    </tr>\n",
       "    <tr>\n",
       "      <th>984</th>\n",
       "      <td>NaN</td>\n",
       "      <td>NaN</td>\n",
       "      <td>NaN</td>\n",
       "      <td>NaN</td>\n",
       "      <td>NaN</td>\n",
       "      <td>0</td>\n",
       "      <td>0</td>\n",
       "      <td>0</td>\n",
       "      <td>0</td>\n",
       "    </tr>\n",
       "    <tr>\n",
       "      <th>1000</th>\n",
       "      <td>NaN</td>\n",
       "      <td>NaN</td>\n",
       "      <td>NaN</td>\n",
       "      <td>NaN</td>\n",
       "      <td>NaN</td>\n",
       "      <td>0</td>\n",
       "      <td>0</td>\n",
       "      <td>0</td>\n",
       "      <td>0</td>\n",
       "    </tr>\n",
       "    <tr>\n",
       "      <th>1011</th>\n",
       "      <td>NaN</td>\n",
       "      <td>NaN</td>\n",
       "      <td>NaN</td>\n",
       "      <td>NaN</td>\n",
       "      <td>NaN</td>\n",
       "      <td>0</td>\n",
       "      <td>0</td>\n",
       "      <td>0</td>\n",
       "      <td>0</td>\n",
       "    </tr>\n",
       "    <tr>\n",
       "      <th>1035</th>\n",
       "      <td>NaN</td>\n",
       "      <td>NaN</td>\n",
       "      <td>NaN</td>\n",
       "      <td>NaN</td>\n",
       "      <td>NaN</td>\n",
       "      <td>0</td>\n",
       "      <td>0</td>\n",
       "      <td>0</td>\n",
       "      <td>0</td>\n",
       "    </tr>\n",
       "    <tr>\n",
       "      <th>1045</th>\n",
       "      <td>NaN</td>\n",
       "      <td>NaN</td>\n",
       "      <td>NaN</td>\n",
       "      <td>NaN</td>\n",
       "      <td>NaN</td>\n",
       "      <td>0</td>\n",
       "      <td>0</td>\n",
       "      <td>0</td>\n",
       "      <td>0</td>\n",
       "    </tr>\n",
       "    <tr>\n",
       "      <th>1048</th>\n",
       "      <td>NaN</td>\n",
       "      <td>NaN</td>\n",
       "      <td>NaN</td>\n",
       "      <td>NaN</td>\n",
       "      <td>NaN</td>\n",
       "      <td>0</td>\n",
       "      <td>0</td>\n",
       "      <td>0</td>\n",
       "      <td>0</td>\n",
       "    </tr>\n",
       "    <tr>\n",
       "      <th>1049</th>\n",
       "      <td>NaN</td>\n",
       "      <td>NaN</td>\n",
       "      <td>NaN</td>\n",
       "      <td>NaN</td>\n",
       "      <td>NaN</td>\n",
       "      <td>0</td>\n",
       "      <td>0</td>\n",
       "      <td>0</td>\n",
       "      <td>0</td>\n",
       "    </tr>\n",
       "    <tr>\n",
       "      <th>1090</th>\n",
       "      <td>NaN</td>\n",
       "      <td>NaN</td>\n",
       "      <td>NaN</td>\n",
       "      <td>NaN</td>\n",
       "      <td>NaN</td>\n",
       "      <td>0</td>\n",
       "      <td>0</td>\n",
       "      <td>0</td>\n",
       "      <td>0</td>\n",
       "    </tr>\n",
       "    <tr>\n",
       "      <th>1179</th>\n",
       "      <td>NaN</td>\n",
       "      <td>NaN</td>\n",
       "      <td>NaN</td>\n",
       "      <td>NaN</td>\n",
       "      <td>NaN</td>\n",
       "      <td>0</td>\n",
       "      <td>0</td>\n",
       "      <td>0</td>\n",
       "      <td>0</td>\n",
       "    </tr>\n",
       "    <tr>\n",
       "      <th>1216</th>\n",
       "      <td>NaN</td>\n",
       "      <td>NaN</td>\n",
       "      <td>NaN</td>\n",
       "      <td>NaN</td>\n",
       "      <td>NaN</td>\n",
       "      <td>0</td>\n",
       "      <td>0</td>\n",
       "      <td>0</td>\n",
       "      <td>0</td>\n",
       "    </tr>\n",
       "    <tr>\n",
       "      <th>1218</th>\n",
       "      <td>NaN</td>\n",
       "      <td>NaN</td>\n",
       "      <td>NaN</td>\n",
       "      <td>NaN</td>\n",
       "      <td>NaN</td>\n",
       "      <td>0</td>\n",
       "      <td>0</td>\n",
       "      <td>0</td>\n",
       "      <td>0</td>\n",
       "    </tr>\n",
       "    <tr>\n",
       "      <th>1232</th>\n",
       "      <td>NaN</td>\n",
       "      <td>NaN</td>\n",
       "      <td>NaN</td>\n",
       "      <td>NaN</td>\n",
       "      <td>NaN</td>\n",
       "      <td>0</td>\n",
       "      <td>0</td>\n",
       "      <td>0</td>\n",
       "      <td>0</td>\n",
       "    </tr>\n",
       "    <tr>\n",
       "      <th>1321</th>\n",
       "      <td>NaN</td>\n",
       "      <td>NaN</td>\n",
       "      <td>NaN</td>\n",
       "      <td>NaN</td>\n",
       "      <td>NaN</td>\n",
       "      <td>0</td>\n",
       "      <td>0</td>\n",
       "      <td>0</td>\n",
       "      <td>0</td>\n",
       "    </tr>\n",
       "    <tr>\n",
       "      <th>1412</th>\n",
       "      <td>NaN</td>\n",
       "      <td>NaN</td>\n",
       "      <td>NaN</td>\n",
       "      <td>NaN</td>\n",
       "      <td>NaN</td>\n",
       "      <td>0</td>\n",
       "      <td>0</td>\n",
       "      <td>0</td>\n",
       "      <td>0</td>\n",
       "    </tr>\n",
       "  </tbody>\n",
       "</table>\n",
       "</div>"
      ],
      "text/plain": [
       "     BsmtExposure BsmtFinType2 BsmtQual BsmtCond BsmtFinType1  TotalBsmtSF  \\\n",
       "17            NaN          NaN      NaN      NaN          NaN            0   \n",
       "39            NaN          NaN      NaN      NaN          NaN            0   \n",
       "90            NaN          NaN      NaN      NaN          NaN            0   \n",
       "102           NaN          NaN      NaN      NaN          NaN            0   \n",
       "156           NaN          NaN      NaN      NaN          NaN            0   \n",
       "182           NaN          NaN      NaN      NaN          NaN            0   \n",
       "259           NaN          NaN      NaN      NaN          NaN            0   \n",
       "332            No          NaN       Gd       TA          GLQ         3206   \n",
       "342           NaN          NaN      NaN      NaN          NaN            0   \n",
       "362           NaN          NaN      NaN      NaN          NaN            0   \n",
       "371           NaN          NaN      NaN      NaN          NaN            0   \n",
       "392           NaN          NaN      NaN      NaN          NaN            0   \n",
       "520           NaN          NaN      NaN      NaN          NaN            0   \n",
       "532           NaN          NaN      NaN      NaN          NaN            0   \n",
       "533           NaN          NaN      NaN      NaN          NaN            0   \n",
       "553           NaN          NaN      NaN      NaN          NaN            0   \n",
       "646           NaN          NaN      NaN      NaN          NaN            0   \n",
       "705           NaN          NaN      NaN      NaN          NaN            0   \n",
       "736           NaN          NaN      NaN      NaN          NaN            0   \n",
       "749           NaN          NaN      NaN      NaN          NaN            0   \n",
       "778           NaN          NaN      NaN      NaN          NaN            0   \n",
       "868           NaN          NaN      NaN      NaN          NaN            0   \n",
       "894           NaN          NaN      NaN      NaN          NaN            0   \n",
       "897           NaN          NaN      NaN      NaN          NaN            0   \n",
       "948           NaN          Unf       Gd       TA          Unf          936   \n",
       "984           NaN          NaN      NaN      NaN          NaN            0   \n",
       "1000          NaN          NaN      NaN      NaN          NaN            0   \n",
       "1011          NaN          NaN      NaN      NaN          NaN            0   \n",
       "1035          NaN          NaN      NaN      NaN          NaN            0   \n",
       "1045          NaN          NaN      NaN      NaN          NaN            0   \n",
       "1048          NaN          NaN      NaN      NaN          NaN            0   \n",
       "1049          NaN          NaN      NaN      NaN          NaN            0   \n",
       "1090          NaN          NaN      NaN      NaN          NaN            0   \n",
       "1179          NaN          NaN      NaN      NaN          NaN            0   \n",
       "1216          NaN          NaN      NaN      NaN          NaN            0   \n",
       "1218          NaN          NaN      NaN      NaN          NaN            0   \n",
       "1232          NaN          NaN      NaN      NaN          NaN            0   \n",
       "1321          NaN          NaN      NaN      NaN          NaN            0   \n",
       "1412          NaN          NaN      NaN      NaN          NaN            0   \n",
       "\n",
       "      BsmtUnfSF  BsmtFullBath  BsmtHalfBath  \n",
       "17            0             0             0  \n",
       "39            0             0             0  \n",
       "90            0             0             0  \n",
       "102           0             0             0  \n",
       "156           0             0             0  \n",
       "182           0             0             0  \n",
       "259           0             0             0  \n",
       "332        1603             1             0  \n",
       "342           0             0             0  \n",
       "362           0             0             0  \n",
       "371           0             0             0  \n",
       "392           0             0             0  \n",
       "520           0             0             0  \n",
       "532           0             0             0  \n",
       "533           0             0             0  \n",
       "553           0             0             0  \n",
       "646           0             0             0  \n",
       "705           0             0             0  \n",
       "736           0             0             0  \n",
       "749           0             0             0  \n",
       "778           0             0             0  \n",
       "868           0             0             0  \n",
       "894           0             0             0  \n",
       "897           0             0             0  \n",
       "948         936             0             0  \n",
       "984           0             0             0  \n",
       "1000          0             0             0  \n",
       "1011          0             0             0  \n",
       "1035          0             0             0  \n",
       "1045          0             0             0  \n",
       "1048          0             0             0  \n",
       "1049          0             0             0  \n",
       "1090          0             0             0  \n",
       "1179          0             0             0  \n",
       "1216          0             0             0  \n",
       "1218          0             0             0  \n",
       "1232          0             0             0  \n",
       "1321          0             0             0  \n",
       "1412          0             0             0  "
      ]
     },
     "execution_count": 44,
     "metadata": {},
     "output_type": "execute_result"
    }
   ],
   "source": [
    "df.loc[indices_missing_data_bmst,[\"BsmtExposure\", \"BsmtFinType2\", \"BsmtQual\", \"BsmtCond\", \"BsmtFinType1\", \"TotalBsmtSF\", \"BsmtUnfSF\",\n",
    "\"BsmtFullBath\", \"BsmtHalfBath\"]]"
   ]
  },
  {
   "cell_type": "markdown",
   "metadata": {},
   "source": [
    "Conclusion: From previous table we can visualize that most of the missing values are matched with a basement area or unfinished basement area of zero, thus it is clear that for these cases, NaN means the dataset does not possess basement.\n",
    "\n",
    "For row 332, feature Basement finished type 2 has a NaN value, based on the description of the competence, it states that this feature may not apply, therefore it is reasonable to assume that NaN means that this house does not have a second basement area.\n",
    "\n",
    "For row 948, feature Basement Exposure has a NaN value, since it is a single house, we deciced to discard this feature from the dataset."
   ]
  },
  {
   "cell_type": "code",
   "execution_count": 45,
   "metadata": {},
   "outputs": [],
   "source": [
    "values = {\n",
    "    \"BsmtExposure\" : \"NoBasement\", \"BsmtFinType2\" : \"NoBasement\", \"BsmtQual\" : \"NoBasement\", \"BsmtCond\" : \"NoBasement\" , \n",
    "    \"BsmtFinType1\" : \"NoBasement\"\n",
    "}\n",
    "df.fillna(values,inplace=True)\n",
    "df.drop([948], axis=0,inplace=True)"
   ]
  },
  {
   "cell_type": "markdown",
   "metadata": {},
   "source": [
    "Feature: Electrical -> Electrical System. Category. Missing data percentage : 0.06 %."
   ]
  },
  {
   "cell_type": "markdown",
   "metadata": {},
   "source": [
    "Conclusion: Single row has an electrical value of Nan. We discard this house from dataset."
   ]
  },
  {
   "cell_type": "code",
   "execution_count": 46,
   "metadata": {},
   "outputs": [],
   "source": [
    "df.drop([1379], axis=0,inplace=True)"
   ]
  },
  {
   "cell_type": "markdown",
   "metadata": {},
   "source": [
    "Feature: LotFrontage -> Linear feet of street connected to property. Numeric. Missing data percentage : 17.73 %. <br>\n",
    "Number missing data: 259"
   ]
  },
  {
   "cell_type": "code",
   "execution_count": 47,
   "metadata": {},
   "outputs": [
    {
     "data": {
      "text/plain": [
       "count    1199.000000\n",
       "mean       70.051710\n",
       "std        24.304427\n",
       "min        21.000000\n",
       "25%        59.000000\n",
       "50%        69.000000\n",
       "75%        80.000000\n",
       "max       313.000000\n",
       "Name: LotFrontage, dtype: float64"
      ]
     },
     "execution_count": 47,
     "metadata": {},
     "output_type": "execute_result"
    }
   ],
   "source": [
    "df[\"LotFrontage\"].describe()"
   ]
  },
  {
   "cell_type": "code",
   "execution_count": 48,
   "metadata": {},
   "outputs": [
    {
     "name": "stderr",
     "output_type": "stream",
     "text": [
      "C:\\Users\\kevin\\AppData\\Local\\Temp\\ipykernel_35888\\3997232959.py:1: UserWarning: \n",
      "\n",
      "`distplot` is a deprecated function and will be removed in seaborn v0.14.0.\n",
      "\n",
      "Please adapt your code to use either `displot` (a figure-level function with\n",
      "similar flexibility) or `histplot` (an axes-level function for histograms).\n",
      "\n",
      "For a guide to updating your code to use the new functions, please see\n",
      "https://gist.github.com/mwaskom/de44147ed2974457ad6372750bbe5751\n",
      "\n",
      "  ax = sns.distplot(df[\"LotFrontage\"], hist=True, hist_kws={\"edgecolor\": 'w', \"linewidth\": 3}, kde_kws={\"linewidth\": 3})\n"
     ]
    },
    {
     "data": {
      "text/plain": [
       "Text(160, 0.002, 'Possible outliers')"
      ]
     },
     "execution_count": 48,
     "metadata": {},
     "output_type": "execute_result"
    },
    {
     "data": {
      "image/png": "[encoded data removed]",
      "text/plain": [
       "<Figure size 640x480 with 1 Axes>"
      ]
     },
     "metadata": {},
     "output_type": "display_data"
    }
   ],
   "source": [
    "ax = sns.distplot(df[\"LotFrontage\"], hist=True, hist_kws={\"edgecolor\": 'w', \"linewidth\": 3}, kde_kws={\"linewidth\": 3})\n",
    "\n",
    "# notation indicating a possible outlier\n",
    "ax.annotate('Possible outliers', xy=(155, 0.00010), xytext=(160, 0.0020), fontsize=12,\n",
    "            arrowprops=dict(arrowstyle='->', ec='grey', lw=2), bbox=dict(boxstyle=\"round\", fc=\"0.8\"))\n"
   ]
  },
  {
   "cell_type": "markdown",
   "metadata": {},
   "source": [
    "Previous plot clearly shows that our dataset distribution is normal, after removing outliers we are imputting missing data using the mean of the distribution."
   ]
  },
  {
   "cell_type": "code",
   "execution_count": 49,
   "metadata": {},
   "outputs": [
    {
     "data": {
      "text/plain": [
       "Text(0.1, 10, 'Outliers')"
      ]
     },
     "execution_count": 49,
     "metadata": {},
     "output_type": "execute_result"
    },
    {
     "data": {
      "image/png": "[encoded data removed]",
      "text/plain": [
       "<Figure size 640x480 with 1 Axes>"
      ]
     },
     "metadata": {},
     "output_type": "display_data"
    }
   ],
   "source": [
    "ax = sns.boxplot(df[\"LotFrontage\"])\n",
    "\n",
    "# notation indicating an outlier\n",
    "ax.annotate('Outliers', xy=(0,108), xytext=(0.1,150), fontsize=14,\n",
    "            arrowprops=dict(arrowstyle='->', ec='grey', lw=2), bbox = dict(boxstyle=\"round\", fc=\"0.8\"))\n",
    "\n",
    "ax.annotate('Outliers', xy=(0,25), xytext=(0.1,10), fontsize=14,\n",
    "            arrowprops=dict(arrowstyle='->', ec='grey', lw=2), bbox = dict(boxstyle=\"round\", fc=\"0.8\"))\n",
    "\n",
    "\n"
   ]
  },
  {
   "cell_type": "markdown",
   "metadata": {},
   "source": [
    "From previous analysis, we have found that LotFrontage has outliers from the upper and lower boundary of range. Thus we proceed to check the number of rows containing this values and depending on the size of it with respect to the dataset size, we will decide if it is convenient to remove these rows from the data."
   ]
  },
  {
   "cell_type": "code",
   "execution_count": 89,
   "metadata": {},
   "outputs": [
    {
     "name": "stdout",
     "output_type": "stream",
     "text": [
      "LotFrontage feature : number of rows with outlier feature data  -> 100\n"
     ]
    }
   ],
   "source": [
    "lot_frontage_outliers = df[\"LotFrontage\"][(df[\"LotFrontage\"] >= 108.0) | (df[\"LotFrontage\"] <= 25.0)]\n",
    "print(f\"LotFrontage feature : number of rows with outlier feature data  -> {lot_frontage_outliers.count()}\")"
   ]
  },
  {
   "cell_type": "code",
   "execution_count": 51,
   "metadata": {},
   "outputs": [
    {
     "name": "stdout",
     "output_type": "stream",
     "text": [
      "LotFrontage feature : number of rows with outlier feature data  -> 10\n"
     ]
    }
   ],
   "source": [
    "lot_frontage_outliers_2 = df[\"LotFrontage\"][(df[\"LotFrontage\"] >= 150.0) | (df[\"LotFrontage\"] <= 20.0)]\n",
    "print(f\"LotFrontage feature : number of rows with outlier feature data  -> {lot_frontage_outliers_2.count()}\")"
   ]
  },
  {
   "cell_type": "code",
   "execution_count": 52,
   "metadata": {},
   "outputs": [
    {
     "data": {
      "text/plain": [
       "OverallQual        5.992278\n",
       "1stFlrSF        1182.050193\n",
       "LotArea        13137.370656\n",
       "dtype: float64"
      ]
     },
     "execution_count": 52,
     "metadata": {},
     "output_type": "execute_result"
    }
   ],
   "source": [
    "avg_correlated_feats_vals_when_lotfrontage_nan = df.iloc[df[\"LotFrontage\"].isnull().values][[\"OverallQual\",\"1stFlrSF\",\"LotArea\"]].mean()\n",
    "avg_correlated_feats_vals_when_lotfrontage_nan"
   ]
  },
  {
   "cell_type": "code",
   "execution_count": 53,
   "metadata": {},
   "outputs": [
    {
     "data": {
      "text/plain": [
       "Text(80, 0.008, 'Most freq val')"
      ]
     },
     "execution_count": 53,
     "metadata": {},
     "output_type": "execute_result"
    },
    {
     "data": {
      "image/png": "[encoded data removed]",
      "text/plain": [
       "<Figure size 1000x1000 with 4 Axes>"
      ]
     },
     "metadata": {},
     "output_type": "display_data"
    }
   ],
   "source": [
    "fig,axes = plt.subplots(4,1,figsize=(10,10))\n",
    "sns.kdeplot(df[[\"OverallQual\"]],ax=axes[0])\n",
    "axes[0].axvline(x = 5,    # Line on x = 2\n",
    "        ymin = 0, # Bottom of the plot\n",
    "           ymax = 1,color=red)\n",
    "axes[0].annotate('Most freq val', xy=(5, 0.00010), xytext=(6,0.1), fontsize=12,\n",
    "            arrowprops=dict(arrowstyle='->', ec='grey', lw=2), bbox=dict(boxstyle=\"round\", fc=\"0.8\"))\n",
    "sns.kdeplot(df[[\"1stFlrSF\"]],ax=axes[1])\n",
    "axes[1].axvline(x = 940,    # Line on x = 2\n",
    "        ymin = 0, # Bottom of the plot\n",
    "           ymax = 1,color=lime)\n",
    "axes[1].annotate('Most freq val', xy=(940, 0.00010), xytext=(950,0.0005), fontsize=12,\n",
    "            arrowprops=dict(arrowstyle='->', ec='grey', lw=2), bbox=dict(boxstyle=\"round\", fc=\"0.8\"))\n",
    "#--------\n",
    "sns.kdeplot(df[[\"LotArea\"]],ax=axes[2])\n",
    "axes[2].axvline(x = 9500,    # Line on x = 2\n",
    "        ymin = 0, # Bottom of the plot\n",
    "           ymax = 1,color=black)\n",
    "axes[2].annotate('Most freq val', xy=(9500, 0.000010), xytext=(9550,0.00004), fontsize=12,\n",
    "            arrowprops=dict(arrowstyle='->', ec='grey', lw=2), bbox=dict(boxstyle=\"round\", fc=\"0.8\"))\n",
    "sns.kdeplot(df[[\"LotFrontage\"]],ax=axes[3])\n",
    "axes[3].axvline(x = 65,    # Line on x = 2\n",
    "        ymin = 0, # Bottom of the plot\n",
    "           ymax = 1,color=aqua)\n",
    "axes[3].annotate('Most freq val', xy=(65, 0.00060), xytext=(80,0.008), fontsize=12,\n",
    "            arrowprops=dict(arrowstyle='->', ec='grey', lw=2), bbox=dict(boxstyle=\"round\", fc=\"0.8\"))"
   ]
  },
  {
   "cell_type": "markdown",
   "metadata": {},
   "source": [
    "Analysis LotFrontage: We have obtained the subset of rows when this feature has NaNs and extracted the values for the most correlated features to it.\n",
    "Approximately, we can see how the average of these features lies within the peaks of their normal data distribution. Thus, we assume the NaNs for LotFrontage follows these patterns, meaning that they are probably located within the highest concentration of data points per feature. We are going to impute missing data utilizing the mean of the normal distribution (without outliers)."
   ]
  },
  {
   "cell_type": "code",
   "execution_count": 54,
   "metadata": {},
   "outputs": [],
   "source": [
    "\n",
    "values = {\n",
    "    \"LotFrontage\" : df[\"LotFrontage\"][((df[\"LotFrontage\"] >= 25.0) & df[\"LotFrontage\"] <= 108.0)].mean(),\n",
    "}\n",
    "df.fillna(values,inplace=True)"
   ]
  },
  {
   "cell_type": "markdown",
   "metadata": {},
   "source": [
    "Feature: MasVnrArea -> Masonry veneer area in square feet. Numeric. Missing data percentage : 0.54 %. <br>\n",
    "Number missing data: 8"
   ]
  },
  {
   "cell_type": "code",
   "execution_count": 55,
   "metadata": {},
   "outputs": [
    {
     "name": "stderr",
     "output_type": "stream",
     "text": [
      "C:\\Users\\kevin\\AppData\\Local\\Temp\\ipykernel_35888\\104838219.py:1: UserWarning: \n",
      "\n",
      "`distplot` is a deprecated function and will be removed in seaborn v0.14.0.\n",
      "\n",
      "Please adapt your code to use either `displot` (a figure-level function with\n",
      "similar flexibility) or `histplot` (an axes-level function for histograms).\n",
      "\n",
      "For a guide to updating your code to use the new functions, please see\n",
      "https://gist.github.com/mwaskom/de44147ed2974457ad6372750bbe5751\n",
      "\n",
      "  ax = sns.distplot(df[\"MasVnrArea\"], hist=True, hist_kws={\"edgecolor\": 'w', \"linewidth\": 3}, kde_kws={\"linewidth\": 3})\n"
     ]
    },
    {
     "data": {
      "text/plain": [
       "Text(585, 0.002, 'Possible outliers')"
      ]
     },
     "execution_count": 55,
     "metadata": {},
     "output_type": "execute_result"
    },
    {
     "data": {
      "image/png": "[encoded data removed]",
      "text/plain": [
       "<Figure size 640x480 with 1 Axes>"
      ]
     },
     "metadata": {},
     "output_type": "display_data"
    }
   ],
   "source": [
    "ax = sns.distplot(df[\"MasVnrArea\"], hist=True, hist_kws={\"edgecolor\": 'w', \"linewidth\": 3}, kde_kws={\"linewidth\": 3})\n",
    "\n",
    "# notation indicating a possible outlier\n",
    "ax.annotate('Possible outliers', xy=(555, 0.00010), xytext=(585, 0.0020), fontsize=12,\n",
    "            arrowprops=dict(arrowstyle='->', ec='grey', lw=2), bbox=dict(boxstyle=\"round\", fc=\"0.8\"))"
   ]
  },
  {
   "cell_type": "markdown",
   "metadata": {},
   "source": [
    "Most of the distribution is normal, with some discrepancies in the right end of the graph."
   ]
  },
  {
   "cell_type": "markdown",
   "metadata": {},
   "source": [
    "Decision: Since most of the data follows a normal distribution, we decided to impute the mean of this normal distribution, trimming misbehaving values. "
   ]
  },
  {
   "cell_type": "code",
   "execution_count": 56,
   "metadata": {},
   "outputs": [
    {
     "data": {
      "text/plain": [
       "Text(0.1, 430, 'Outliers')"
      ]
     },
     "execution_count": 56,
     "metadata": {},
     "output_type": "execute_result"
    },
    {
     "data": {
      "image/png": "[encoded data removed]",
      "text/plain": [
       "<Figure size 640x480 with 1 Axes>"
      ]
     },
     "metadata": {},
     "output_type": "display_data"
    }
   ],
   "source": [
    "ax = sns.boxplot(df[\"MasVnrArea\"])\n",
    "\n",
    "# notation indicating an outlier\n",
    "ax.annotate('Outliers', xy=(0,410), xytext=(0.1,430), fontsize=14,\n",
    "            arrowprops=dict(arrowstyle='->', ec='grey', lw=2), bbox = dict(boxstyle=\"round\", fc=\"0.8\"))"
   ]
  },
  {
   "cell_type": "code",
   "execution_count": 57,
   "metadata": {},
   "outputs": [],
   "source": [
    "outliers_mas_vnr_area = df[\"MasVnrArea\"].loc[df[\"MasVnrArea\"] > 410]"
   ]
  },
  {
   "cell_type": "code",
   "execution_count": 58,
   "metadata": {},
   "outputs": [],
   "source": [
    "outliers_mas_vnr_area_2 = df[\"MasVnrArea\"].loc[df[\"MasVnrArea\"] > 555]"
   ]
  },
  {
   "cell_type": "code",
   "execution_count": 59,
   "metadata": {},
   "outputs": [
    {
     "name": "stdout",
     "output_type": "stream",
     "text": [
      "MasVnrArea feature : number of rows with outlier feature data  -> 98\n"
     ]
    }
   ],
   "source": [
    "print(f\"MasVnrArea feature : number of rows with outlier feature data  -> {outliers_mas_vnr_area.count()}\")"
   ]
  },
  {
   "cell_type": "code",
   "execution_count": 60,
   "metadata": {},
   "outputs": [
    {
     "data": {
      "text/plain": [
       "OverallQual    7.25\n",
       "dtype: float64"
      ]
     },
     "execution_count": 60,
     "metadata": {},
     "output_type": "execute_result"
    }
   ],
   "source": [
    "avg_correlated_feats_vals_when_masvnrarea_nan = df.iloc[df[\"MasVnrArea\"].isnull().values][[\"OverallQual\"]].mean()\n",
    "avg_correlated_feats_vals_when_masvnrarea_nan"
   ]
  },
  {
   "cell_type": "code",
   "execution_count": 61,
   "metadata": {},
   "outputs": [
    {
     "data": {
      "text/plain": [
       "Text(5, 0.002, 'Most freq val')"
      ]
     },
     "execution_count": 61,
     "metadata": {},
     "output_type": "execute_result"
    },
    {
     "data": {
      "image/png": "[encoded data removed]",
      "text/plain": [
       "<Figure size 1000x1000 with 2 Axes>"
      ]
     },
     "metadata": {},
     "output_type": "display_data"
    }
   ],
   "source": [
    "fig,axes = plt.subplots(2,1,figsize=(10,10))\n",
    "sns.kdeplot(df[[\"OverallQual\"]],ax=axes[0])\n",
    "axes[0].axvline(x = 5,    # Line on x = 2\n",
    "        ymin = 0, # Bottom of the plot\n",
    "           ymax = 1,color=red)\n",
    "axes[0].annotate('Most freq val', xy=(5, 0.00010), xytext=(6,0.1), fontsize=12,\n",
    "            arrowprops=dict(arrowstyle='->', ec='grey', lw=2), bbox=dict(boxstyle=\"round\", fc=\"0.8\"))\n",
    "sns.kdeplot(df[[\"MasVnrArea\"]],ax=axes[1])\n",
    "axes[1].axvline(x = 0,    # Line on x = 2\n",
    "        ymin = 0, # Bottom of the plot\n",
    "           ymax = 1,color=lime)\n",
    "axes[1].annotate('Most freq val', xy=(0, 0.0010), xytext=(5,0.002), fontsize=12,\n",
    "            arrowprops=dict(arrowstyle='->', ec='grey', lw=2), bbox=dict(boxstyle=\"round\", fc=\"0.8\"))\n"
   ]
  },
  {
   "cell_type": "markdown",
   "metadata": {},
   "source": [
    "Analysis: Most correlated feature for MasVnrArea is OverallQual, the average value of this feature when MasVnrArea presents NaN values is 7.25, which is slightly skewed to the right from the most frequent Overall value (5), probably has to do because MasVnrArea is not a perfectly symmetrical normal distribution. We can expect the real missing values to be slightly skewed right from 0 (most freq value for MasVnrArea). To simplify this problem, we will impute the missing NaN values with the mean of MasVnrArea distribution (without outliers)"
   ]
  },
  {
   "cell_type": "code",
   "execution_count": 62,
   "metadata": {},
   "outputs": [],
   "source": [
    "values = {\n",
    "    \"MasVnrArea\" : df[\"MasVnrArea\"][((df[\"MasVnrArea\"] <= 410.0))].mean(),\n",
    "}\n",
    "df.fillna(values,inplace=True)"
   ]
  },
  {
   "cell_type": "markdown",
   "metadata": {},
   "source": [
    "Let us check how many we will be removing if we discard outliers from LotFrontage and Masonry Veneer Area"
   ]
  },
  {
   "cell_type": "code",
   "execution_count": 63,
   "metadata": {},
   "outputs": [
    {
     "name": "stdout",
     "output_type": "stream",
     "text": [
      "MasVnrArea feature : number of rows with outlier feature data  -> 49\n"
     ]
    }
   ],
   "source": [
    "\n",
    "print(f\"MasVnrArea feature : number of rows with outlier feature data  -> {outliers_mas_vnr_area_2.count()}\")"
   ]
  },
  {
   "cell_type": "code",
   "execution_count": 64,
   "metadata": {},
   "outputs": [],
   "source": [
    "merge_outliers_df = pd.merge(left=lot_frontage_outliers,right=outliers_mas_vnr_area,how=\"outer\",\n",
    "                             left_on= lot_frontage_outliers.index,right_on = outliers_mas_vnr_area.index)\n"
   ]
  },
  {
   "cell_type": "code",
   "execution_count": 65,
   "metadata": {},
   "outputs": [],
   "source": [
    "merge_outliers_2_df = pd.merge(left=lot_frontage_outliers_2,right=outliers_mas_vnr_area_2,how=\"outer\",\n",
    "                             left_on= lot_frontage_outliers_2.index,right_on = outliers_mas_vnr_area_2.index)"
   ]
  },
  {
   "cell_type": "code",
   "execution_count": 66,
   "metadata": {},
   "outputs": [
    {
     "data": {
      "text/html": [
       "<div>\n",
       "<style scoped>\n",
       "    .dataframe tbody tr th:only-of-type {\n",
       "        vertical-align: middle;\n",
       "    }\n",
       "\n",
       "    .dataframe tbody tr th {\n",
       "        vertical-align: top;\n",
       "    }\n",
       "\n",
       "    .dataframe thead th {\n",
       "        text-align: right;\n",
       "    }\n",
       "</style>\n",
       "<table border=\"1\" class=\"dataframe\">\n",
       "  <thead>\n",
       "    <tr style=\"text-align: right;\">\n",
       "      <th></th>\n",
       "      <th>key_0</th>\n",
       "      <th>LotFrontage</th>\n",
       "      <th>MasVnrArea</th>\n",
       "    </tr>\n",
       "  </thead>\n",
       "  <tbody>\n",
       "    <tr>\n",
       "      <th>0</th>\n",
       "      <td>25</td>\n",
       "      <td>110.0</td>\n",
       "      <td>640.0</td>\n",
       "    </tr>\n",
       "    <tr>\n",
       "      <th>1</th>\n",
       "      <td>35</td>\n",
       "      <td>108.0</td>\n",
       "      <td>NaN</td>\n",
       "    </tr>\n",
       "    <tr>\n",
       "      <th>2</th>\n",
       "      <td>36</td>\n",
       "      <td>112.0</td>\n",
       "      <td>NaN</td>\n",
       "    </tr>\n",
       "    <tr>\n",
       "      <th>3</th>\n",
       "      <td>37</td>\n",
       "      <td>NaN</td>\n",
       "      <td>650.0</td>\n",
       "    </tr>\n",
       "    <tr>\n",
       "      <th>4</th>\n",
       "      <td>41</td>\n",
       "      <td>115.0</td>\n",
       "      <td>NaN</td>\n",
       "    </tr>\n",
       "    <tr>\n",
       "      <th>...</th>\n",
       "      <td>...</td>\n",
       "      <td>...</td>\n",
       "      <td>...</td>\n",
       "    </tr>\n",
       "    <tr>\n",
       "      <th>181</th>\n",
       "      <td>1420</td>\n",
       "      <td>NaN</td>\n",
       "      <td>420.0</td>\n",
       "    </tr>\n",
       "    <tr>\n",
       "      <th>182</th>\n",
       "      <td>1426</td>\n",
       "      <td>NaN</td>\n",
       "      <td>448.0</td>\n",
       "    </tr>\n",
       "    <tr>\n",
       "      <th>183</th>\n",
       "      <td>1437</td>\n",
       "      <td>NaN</td>\n",
       "      <td>426.0</td>\n",
       "    </tr>\n",
       "    <tr>\n",
       "      <th>184</th>\n",
       "      <td>1447</td>\n",
       "      <td>NaN</td>\n",
       "      <td>438.0</td>\n",
       "    </tr>\n",
       "    <tr>\n",
       "      <th>185</th>\n",
       "      <td>1449</td>\n",
       "      <td>21.0</td>\n",
       "      <td>NaN</td>\n",
       "    </tr>\n",
       "  </tbody>\n",
       "</table>\n",
       "<p>186 rows × 3 columns</p>\n",
       "</div>"
      ],
      "text/plain": [
       "     key_0  LotFrontage  MasVnrArea\n",
       "0       25        110.0       640.0\n",
       "1       35        108.0         NaN\n",
       "2       36        112.0         NaN\n",
       "3       37          NaN       650.0\n",
       "4       41        115.0         NaN\n",
       "..     ...          ...         ...\n",
       "181   1420          NaN       420.0\n",
       "182   1426          NaN       448.0\n",
       "183   1437          NaN       426.0\n",
       "184   1447          NaN       438.0\n",
       "185   1449         21.0         NaN\n",
       "\n",
       "[186 rows x 3 columns]"
      ]
     },
     "execution_count": 66,
     "metadata": {},
     "output_type": "execute_result"
    }
   ],
   "source": [
    "merge_outliers_df"
   ]
  },
  {
   "cell_type": "code",
   "execution_count": 67,
   "metadata": {},
   "outputs": [
    {
     "data": {
      "text/plain": [
       "12.73972602739726"
      ]
     },
     "execution_count": 67,
     "metadata": {},
     "output_type": "execute_result"
    }
   ],
   "source": [
    "(186 / num_obs) * 100"
   ]
  },
  {
   "cell_type": "markdown",
   "metadata": {},
   "source": [
    "We have 186 rows we will need to discard in order to remove outliers from LotFrontage and MasVnrArea, consistituing 12.73 % of current data. We will be left out with 1272 observations to work with. We opted to removed these rows from the dataset and we will preserve an image of the complete dataset for comparison purposes."
   ]
  },
  {
   "cell_type": "code",
   "execution_count": 68,
   "metadata": {},
   "outputs": [
    {
     "data": {
      "text/plain": [
       "Id               1272\n",
       "MSSubClass       1272\n",
       "MSZoning         1272\n",
       "LotFrontage      1272\n",
       "LotArea          1272\n",
       "                 ... \n",
       "MoSold           1272\n",
       "YrSold           1272\n",
       "SaleType         1272\n",
       "SaleCondition    1272\n",
       "SalePrice        1272\n",
       "Length: 81, dtype: int64"
      ]
     },
     "execution_count": 68,
     "metadata": {},
     "output_type": "execute_result"
    }
   ],
   "source": [
    "df1 = df.copy()\n",
    "df1.drop(merge_outliers_df.key_0.values,axis= 0, inplace=True)\n",
    "df1.count()"
   ]
  },
  {
   "cell_type": "code",
   "execution_count": 69,
   "metadata": {},
   "outputs": [],
   "source": [
    "df1_1 = df.copy()\n",
    "df1_1.drop(merge_outliers_2_df.key_0.values,axis= 0, inplace=True)"
   ]
  },
  {
   "cell_type": "markdown",
   "metadata": {},
   "source": [
    "Let's fill the missing values from these two features (LotFrontage & MasVnrArea) with their corresponding mean value"
   ]
  },
  {
   "cell_type": "code",
   "execution_count": 70,
   "metadata": {},
   "outputs": [
    {
     "data": {
      "text/plain": [
       "' values = {\\n    \"LotFrontage\" : df[\"LotFrontage\"].mean(),\\n    \"MasVnrArea\" : df[\"MasVnrArea\"].mean()\\n}\\ndf.fillna(values,inplace=True)\\n\\nvalues = {\\n    \"LotFrontage\" : df1[\"LotFrontage\"].mean(),\\n    \"MasVnrArea\" : df1[\"MasVnrArea\"].mean()\\n}\\ndf1.fillna(values,inplace=True) '"
      ]
     },
     "execution_count": 70,
     "metadata": {},
     "output_type": "execute_result"
    }
   ],
   "source": [
    "\"\"\" values = {\n",
    "    \"LotFrontage\" : df[\"LotFrontage\"].mean(),\n",
    "    \"MasVnrArea\" : df[\"MasVnrArea\"].mean()\n",
    "}\n",
    "df.fillna(values,inplace=True)\n",
    "\n",
    "values = {\n",
    "    \"LotFrontage\" : df1[\"LotFrontage\"].mean(),\n",
    "    \"MasVnrArea\" : df1[\"MasVnrArea\"].mean()\n",
    "}\n",
    "df1.fillna(values,inplace=True) \"\"\""
   ]
  },
  {
   "cell_type": "code",
   "execution_count": 71,
   "metadata": {},
   "outputs": [
    {
     "data": {
      "text/plain": [
       "' values = {\\n    \"LotFrontage\" : df1_1[\"LotFrontage\"].mean(),\\n    \"MasVnrArea\" : df1_1[\"MasVnrArea\"].mean()\\n}\\ndf1_1.fillna(values,inplace=True) '"
      ]
     },
     "execution_count": 71,
     "metadata": {},
     "output_type": "execute_result"
    }
   ],
   "source": [
    "\"\"\" values = {\n",
    "    \"LotFrontage\" : df1_1[\"LotFrontage\"].mean(),\n",
    "    \"MasVnrArea\" : df1_1[\"MasVnrArea\"].mean()\n",
    "}\n",
    "df1_1.fillna(values,inplace=True) \"\"\""
   ]
  },
  {
   "cell_type": "code",
   "execution_count": 72,
   "metadata": {},
   "outputs": [
    {
     "data": {
      "text/plain": [
       "array([   0,    0,    0,    0,    0,    0, 1367,    0,    0,    0,    0,\n",
       "          0,    0,    0,    0,    0,    0,    0,    0,    0,    0,    0,\n",
       "          0,    0,    0,    0,    0,    0,    0,    0,    0,    0,    0,\n",
       "          0,    0,    0,    0,    0,    0,    0,    0,    0,    0,    0,\n",
       "          0,    0,    0,    0,    0,    0,    0,    0,    0,    0,    0,\n",
       "          0,    0,    0,    0,    0,    0,    0,    0,    0,    0,    0,\n",
       "          0,    0,    0,    0,    0,    0, 1451, 1177, 1404,    0,    0,\n",
       "          0,    0,    0,    0])"
      ]
     },
     "execution_count": 72,
     "metadata": {},
     "output_type": "execute_result"
    }
   ],
   "source": [
    "df.isnull().sum().values"
   ]
  },
  {
   "cell_type": "code",
   "execution_count": 73,
   "metadata": {},
   "outputs": [
    {
     "data": {
      "text/plain": [
       "array([   0,    0,    0,    0,    0,    0, 1191,    0,    0,    0,    0,\n",
       "          0,    0,    0,    0,    0,    0,    0,    0,    0,    0,    0,\n",
       "          0,    0,    0,    0,    0,    0,    0,    0,    0,    0,    0,\n",
       "          0,    0,    0,    0,    0,    0,    0,    0,    0,    0,    0,\n",
       "          0,    0,    0,    0,    0,    0,    0,    0,    0,    0,    0,\n",
       "          0,    0,    0,    0,    0,    0,    0,    0,    0,    0,    0,\n",
       "          0,    0,    0,    0,    0,    0, 1268, 1008, 1222,    0,    0,\n",
       "          0,    0,    0,    0])"
      ]
     },
     "execution_count": 73,
     "metadata": {},
     "output_type": "execute_result"
    }
   ],
   "source": [
    "df1.isnull().sum().values"
   ]
  },
  {
   "cell_type": "code",
   "execution_count": 74,
   "metadata": {},
   "outputs": [
    {
     "data": {
      "text/plain": [
       "array([   0,    0,    0,    0,    0,    0, 1313,    0,    0,    0,    0,\n",
       "          0,    0,    0,    0,    0,    0,    0,    0,    0,    0,    0,\n",
       "          0,    0,    0,    0,    0,    0,    0,    0,    0,    0,    0,\n",
       "          0,    0,    0,    0,    0,    0,    0,    0,    0,    0,    0,\n",
       "          0,    0,    0,    0,    0,    0,    0,    0,    0,    0,    0,\n",
       "          0,    0,    0,    0,    0,    0,    0,    0,    0,    0,    0,\n",
       "          0,    0,    0,    0,    0,    0, 1396, 1124, 1346,    0,    0,\n",
       "          0,    0,    0,    0])"
      ]
     },
     "execution_count": 74,
     "metadata": {},
     "output_type": "execute_result"
    }
   ],
   "source": [
    "df1_1.isnull().sum().values"
   ]
  },
  {
   "cell_type": "markdown",
   "metadata": {},
   "source": [
    "Let us drop the previously analyzed features that may not contribute to predict house prices"
   ]
  },
  {
   "cell_type": "code",
   "execution_count": 75,
   "metadata": {},
   "outputs": [],
   "source": [
    "df.drop(cols_to_remove,axis=1,inplace=True)\n",
    "df1.drop(cols_to_remove,axis=1,inplace=True)"
   ]
  },
  {
   "cell_type": "code",
   "execution_count": 76,
   "metadata": {},
   "outputs": [],
   "source": [
    "df1_1.drop(cols_to_remove,axis=1,inplace=True)"
   ]
  },
  {
   "cell_type": "code",
   "execution_count": 77,
   "metadata": {},
   "outputs": [
    {
     "data": {
      "text/plain": [
       "array([0, 0, 0, 0, 0, 0, 0, 0, 0, 0, 0, 0, 0, 0, 0, 0, 0, 0, 0, 0, 0, 0,\n",
       "       0, 0, 0, 0, 0, 0, 0, 0, 0, 0, 0, 0, 0, 0, 0, 0, 0, 0, 0, 0, 0, 0,\n",
       "       0, 0, 0, 0, 0, 0, 0, 0, 0, 0, 0, 0, 0, 0, 0, 0, 0, 0, 0, 0, 0, 0,\n",
       "       0, 0, 0, 0, 0, 0, 0, 0, 0, 0])"
      ]
     },
     "execution_count": 77,
     "metadata": {},
     "output_type": "execute_result"
    }
   ],
   "source": [
    "df.isnull().sum().values"
   ]
  },
  {
   "cell_type": "code",
   "execution_count": 78,
   "metadata": {},
   "outputs": [
    {
     "data": {
      "text/plain": [
       "array([0, 0, 0, 0, 0, 0, 0, 0, 0, 0, 0, 0, 0, 0, 0, 0, 0, 0, 0, 0, 0, 0,\n",
       "       0, 0, 0, 0, 0, 0, 0, 0, 0, 0, 0, 0, 0, 0, 0, 0, 0, 0, 0, 0, 0, 0,\n",
       "       0, 0, 0, 0, 0, 0, 0, 0, 0, 0, 0, 0, 0, 0, 0, 0, 0, 0, 0, 0, 0, 0,\n",
       "       0, 0, 0, 0, 0, 0, 0, 0, 0, 0])"
      ]
     },
     "execution_count": 78,
     "metadata": {},
     "output_type": "execute_result"
    }
   ],
   "source": [
    "df1.isnull().sum().values"
   ]
  },
  {
   "cell_type": "code",
   "execution_count": 79,
   "metadata": {},
   "outputs": [
    {
     "data": {
      "text/plain": [
       "array([0, 0, 0, 0, 0, 0, 0, 0, 0, 0, 0, 0, 0, 0, 0, 0, 0, 0, 0, 0, 0, 0,\n",
       "       0, 0, 0, 0, 0, 0, 0, 0, 0, 0, 0, 0, 0, 0, 0, 0, 0, 0, 0, 0, 0, 0,\n",
       "       0, 0, 0, 0, 0, 0, 0, 0, 0, 0, 0, 0, 0, 0, 0, 0, 0, 0, 0, 0, 0, 0,\n",
       "       0, 0, 0, 0, 0, 0, 0, 0, 0, 0])"
      ]
     },
     "execution_count": 79,
     "metadata": {},
     "output_type": "execute_result"
    }
   ],
   "source": [
    "df1_1.isnull().sum().values"
   ]
  },
  {
   "cell_type": "markdown",
   "metadata": {},
   "source": [
    "# Categorical Features Encoding"
   ]
  },
  {
   "cell_type": "markdown",
   "metadata": {},
   "source": [
    "This section aims to convert string categorical features into a data type which can be processed by ML models. Note: If required, analyze the features who may be best encoded as ordinal encoding.\n",
    "\n",
    "Update 15/08/2024: Now we have applied ordinal feature encoding to the relevant features."
   ]
  },
  {
   "cell_type": "code",
   "execution_count": 80,
   "metadata": {},
   "outputs": [],
   "source": [
    "df.reset_index(drop=True,inplace=True)\n",
    "df.drop([\"Id\"], axis=1,inplace=True)\n",
    "df1.reset_index(drop=True,inplace=True)\n",
    "df1.drop([\"Id\"], axis=1,inplace=True)"
   ]
  },
  {
   "cell_type": "code",
   "execution_count": 81,
   "metadata": {},
   "outputs": [],
   "source": [
    "\n",
    "df1_1.reset_index(drop=True,inplace=True)\n",
    "\n",
    "df1_1.drop([\"Id\"], axis=1,inplace=True)"
   ]
  },
  {
   "cell_type": "code",
   "execution_count": 82,
   "metadata": {},
   "outputs": [
    {
     "data": {
      "text/plain": [
       "array(['MSZoning', 'Street', 'LotShape', 'LandContour', 'Utilities',\n",
       "       'LotConfig', 'LandSlope', 'Neighborhood', 'Condition1',\n",
       "       'Condition2', 'BldgType', 'HouseStyle', 'RoofStyle', 'RoofMatl',\n",
       "       'Exterior1st', 'Exterior2nd', 'MasVnrType', 'ExterQual',\n",
       "       'ExterCond', 'Foundation', 'BsmtQual', 'BsmtCond', 'BsmtExposure',\n",
       "       'BsmtFinType1', 'BsmtFinType2', 'Heating', 'HeatingQC',\n",
       "       'CentralAir', 'Electrical', 'KitchenQual', 'Functional',\n",
       "       'FireplaceQu', 'GarageType', 'GarageFinish', 'GarageQual',\n",
       "       'GarageCond', 'PavedDrive', 'SaleType', 'SaleCondition'],\n",
       "      dtype=object)"
      ]
     },
     "execution_count": 82,
     "metadata": {},
     "output_type": "execute_result"
    }
   ],
   "source": [
    "df.select_dtypes([\"object\"]).columns.values"
   ]
  },
  {
   "cell_type": "code",
   "execution_count": 83,
   "metadata": {},
   "outputs": [],
   "source": [
    "ordinal_cols_ordered = [\"LotShape\", \"Utilities\", \"LandSlope\", \"HeatingQC\"]\n",
    "ordinal_cols_unordered = [\"HouseStyle\", \"ExterQual\", \"ExterCond\",\"BsmtQual\", \"BsmtCond\", \"BsmtExposure\",\n",
    "\"BsmtFinType1\", \"BsmtFinType2\",\"Electrical\", \"KitchenQual\", \"Functional\", \"FireplaceQu\", \"GarageFinish\", \"GarageQual\",\n",
    "\"GarageCond\" ]"
   ]
  },
  {
   "cell_type": "code",
   "execution_count": 84,
   "metadata": {},
   "outputs": [
    {
     "name": "stderr",
     "output_type": "stream",
     "text": [
      "C:\\Users\\kevin\\AppData\\Local\\Temp\\ipykernel_35888\\700817693.py:24: FutureWarning: Downcasting behavior in `replace` is deprecated and will be removed in a future version. To retain the old behavior, explicitly call `result.infer_objects(copy=False)`. To opt-in to the future behavior, set `pd.set_option('future.no_silent_downcasting', True)`\n",
      "  temp_serie = feat.replace(temp_dic)\n",
      "C:\\Users\\kevin\\AppData\\Local\\Temp\\ipykernel_35888\\700817693.py:24: FutureWarning: Downcasting behavior in `replace` is deprecated and will be removed in a future version. To retain the old behavior, explicitly call `result.infer_objects(copy=False)`. To opt-in to the future behavior, set `pd.set_option('future.no_silent_downcasting', True)`\n",
      "  temp_serie = feat.replace(temp_dic)\n",
      "C:\\Users\\kevin\\AppData\\Local\\Temp\\ipykernel_35888\\700817693.py:24: FutureWarning: Downcasting behavior in `replace` is deprecated and will be removed in a future version. To retain the old behavior, explicitly call `result.infer_objects(copy=False)`. To opt-in to the future behavior, set `pd.set_option('future.no_silent_downcasting', True)`\n",
      "  temp_serie = feat.replace(temp_dic)\n",
      "C:\\Users\\kevin\\AppData\\Local\\Temp\\ipykernel_35888\\700817693.py:24: FutureWarning: Downcasting behavior in `replace` is deprecated and will be removed in a future version. To retain the old behavior, explicitly call `result.infer_objects(copy=False)`. To opt-in to the future behavior, set `pd.set_option('future.no_silent_downcasting', True)`\n",
      "  temp_serie = feat.replace(temp_dic)\n",
      "C:\\Users\\kevin\\AppData\\Local\\Temp\\ipykernel_35888\\700817693.py:55: FutureWarning: Downcasting behavior in `replace` is deprecated and will be removed in a future version. To retain the old behavior, explicitly call `result.infer_objects(copy=False)`. To opt-in to the future behavior, set `pd.set_option('future.no_silent_downcasting', True)`\n",
      "  temp_serie = df2[col_name].replace(ls_replace_vals_ord_cat_unordered[i])\n",
      "C:\\Users\\kevin\\AppData\\Local\\Temp\\ipykernel_35888\\700817693.py:55: FutureWarning: Downcasting behavior in `replace` is deprecated and will be removed in a future version. To retain the old behavior, explicitly call `result.infer_objects(copy=False)`. To opt-in to the future behavior, set `pd.set_option('future.no_silent_downcasting', True)`\n",
      "  temp_serie = df2[col_name].replace(ls_replace_vals_ord_cat_unordered[i])\n",
      "C:\\Users\\kevin\\AppData\\Local\\Temp\\ipykernel_35888\\700817693.py:55: FutureWarning: Downcasting behavior in `replace` is deprecated and will be removed in a future version. To retain the old behavior, explicitly call `result.infer_objects(copy=False)`. To opt-in to the future behavior, set `pd.set_option('future.no_silent_downcasting', True)`\n",
      "  temp_serie = df2[col_name].replace(ls_replace_vals_ord_cat_unordered[i])\n",
      "C:\\Users\\kevin\\AppData\\Local\\Temp\\ipykernel_35888\\700817693.py:55: FutureWarning: Downcasting behavior in `replace` is deprecated and will be removed in a future version. To retain the old behavior, explicitly call `result.infer_objects(copy=False)`. To opt-in to the future behavior, set `pd.set_option('future.no_silent_downcasting', True)`\n",
      "  temp_serie = df2[col_name].replace(ls_replace_vals_ord_cat_unordered[i])\n",
      "C:\\Users\\kevin\\AppData\\Local\\Temp\\ipykernel_35888\\700817693.py:55: FutureWarning: Downcasting behavior in `replace` is deprecated and will be removed in a future version. To retain the old behavior, explicitly call `result.infer_objects(copy=False)`. To opt-in to the future behavior, set `pd.set_option('future.no_silent_downcasting', True)`\n",
      "  temp_serie = df2[col_name].replace(ls_replace_vals_ord_cat_unordered[i])\n",
      "C:\\Users\\kevin\\AppData\\Local\\Temp\\ipykernel_35888\\700817693.py:55: FutureWarning: Downcasting behavior in `replace` is deprecated and will be removed in a future version. To retain the old behavior, explicitly call `result.infer_objects(copy=False)`. To opt-in to the future behavior, set `pd.set_option('future.no_silent_downcasting', True)`\n",
      "  temp_serie = df2[col_name].replace(ls_replace_vals_ord_cat_unordered[i])\n",
      "C:\\Users\\kevin\\AppData\\Local\\Temp\\ipykernel_35888\\700817693.py:55: FutureWarning: Downcasting behavior in `replace` is deprecated and will be removed in a future version. To retain the old behavior, explicitly call `result.infer_objects(copy=False)`. To opt-in to the future behavior, set `pd.set_option('future.no_silent_downcasting', True)`\n",
      "  temp_serie = df2[col_name].replace(ls_replace_vals_ord_cat_unordered[i])\n",
      "C:\\Users\\kevin\\AppData\\Local\\Temp\\ipykernel_35888\\700817693.py:55: FutureWarning: Downcasting behavior in `replace` is deprecated and will be removed in a future version. To retain the old behavior, explicitly call `result.infer_objects(copy=False)`. To opt-in to the future behavior, set `pd.set_option('future.no_silent_downcasting', True)`\n",
      "  temp_serie = df2[col_name].replace(ls_replace_vals_ord_cat_unordered[i])\n",
      "C:\\Users\\kevin\\AppData\\Local\\Temp\\ipykernel_35888\\700817693.py:55: FutureWarning: Downcasting behavior in `replace` is deprecated and will be removed in a future version. To retain the old behavior, explicitly call `result.infer_objects(copy=False)`. To opt-in to the future behavior, set `pd.set_option('future.no_silent_downcasting', True)`\n",
      "  temp_serie = df2[col_name].replace(ls_replace_vals_ord_cat_unordered[i])\n",
      "C:\\Users\\kevin\\AppData\\Local\\Temp\\ipykernel_35888\\700817693.py:55: FutureWarning: Downcasting behavior in `replace` is deprecated and will be removed in a future version. To retain the old behavior, explicitly call `result.infer_objects(copy=False)`. To opt-in to the future behavior, set `pd.set_option('future.no_silent_downcasting', True)`\n",
      "  temp_serie = df2[col_name].replace(ls_replace_vals_ord_cat_unordered[i])\n",
      "C:\\Users\\kevin\\AppData\\Local\\Temp\\ipykernel_35888\\700817693.py:55: FutureWarning: Downcasting behavior in `replace` is deprecated and will be removed in a future version. To retain the old behavior, explicitly call `result.infer_objects(copy=False)`. To opt-in to the future behavior, set `pd.set_option('future.no_silent_downcasting', True)`\n",
      "  temp_serie = df2[col_name].replace(ls_replace_vals_ord_cat_unordered[i])\n",
      "C:\\Users\\kevin\\AppData\\Local\\Temp\\ipykernel_35888\\700817693.py:55: FutureWarning: Downcasting behavior in `replace` is deprecated and will be removed in a future version. To retain the old behavior, explicitly call `result.infer_objects(copy=False)`. To opt-in to the future behavior, set `pd.set_option('future.no_silent_downcasting', True)`\n",
      "  temp_serie = df2[col_name].replace(ls_replace_vals_ord_cat_unordered[i])\n",
      "C:\\Users\\kevin\\AppData\\Local\\Temp\\ipykernel_35888\\700817693.py:55: FutureWarning: Downcasting behavior in `replace` is deprecated and will be removed in a future version. To retain the old behavior, explicitly call `result.infer_objects(copy=False)`. To opt-in to the future behavior, set `pd.set_option('future.no_silent_downcasting', True)`\n",
      "  temp_serie = df2[col_name].replace(ls_replace_vals_ord_cat_unordered[i])\n",
      "C:\\Users\\kevin\\AppData\\Local\\Temp\\ipykernel_35888\\700817693.py:55: FutureWarning: Downcasting behavior in `replace` is deprecated and will be removed in a future version. To retain the old behavior, explicitly call `result.infer_objects(copy=False)`. To opt-in to the future behavior, set `pd.set_option('future.no_silent_downcasting', True)`\n",
      "  temp_serie = df2[col_name].replace(ls_replace_vals_ord_cat_unordered[i])\n",
      "C:\\Users\\kevin\\AppData\\Local\\Temp\\ipykernel_35888\\700817693.py:55: FutureWarning: Downcasting behavior in `replace` is deprecated and will be removed in a future version. To retain the old behavior, explicitly call `result.infer_objects(copy=False)`. To opt-in to the future behavior, set `pd.set_option('future.no_silent_downcasting', True)`\n",
      "  temp_serie = df2[col_name].replace(ls_replace_vals_ord_cat_unordered[i])\n"
     ]
    }
   ],
   "source": [
    "df2 = df.copy()\n",
    "new_feat_col_names = []\n",
    "\n",
    "for col_name in df.select_dtypes([\"object\"]).drop(ordinal_cols_ordered + ordinal_cols_unordered,axis = 1).columns.values:\n",
    "    new_feat_name = col_name + \"_enc\"\n",
    "    x = LabelEncoder().fit_transform(df2[col_name])\n",
    "    temp_serie = pd.Series(x,name=new_feat_name)\n",
    "    df2 = pd.concat([df2,temp_serie],axis=1)\n",
    "    df2.drop([col_name],axis = 1,inplace=True)\n",
    "    new_feat_col_names.append(new_feat_name)\n",
    "\n",
    "#Ordinal categorical encoding (ordered values)\n",
    "\n",
    "for col_name in df[ordinal_cols_ordered].columns.values:\n",
    "    feat = df2[col_name]\n",
    "    cat_len = feat.unique().shape[0]\n",
    "\n",
    "    #construct dict of values to be replaced\n",
    "    temp_dic = {}\n",
    "    for i,val in enumerate(feat.unique()):\n",
    "        temp_dic[val] = cat_len - i\n",
    "\n",
    "    #replace dict of values in col features\n",
    "    temp_serie = feat.replace(temp_dic)\n",
    "    temp_serie.name = col_name + \"_enc\"\n",
    "    df2 = pd.concat([df2,temp_serie],axis=1)\n",
    "    df2.drop([col_name],axis = 1,inplace=True)\n",
    "    new_feat_col_names.append(temp_serie.name)\n",
    "\n",
    "\n",
    "#Ordinal categorical encoding (unordered values)\n",
    "ls_replace_vals_ord_cat_unordered = [\n",
    "{ \"1Story\" : 1,\"1.5Fin\" : 2, \"1.5Unf\" : 3, \"2Story\" : 4, \"2.5Fin\" : 5, \"2.5Unf\" : 6, \"SFoyer\" : 7,\n",
    "                        \"SLvl\" : 8\n",
    "},#ord_cat_unordered_hs\n",
    "{\"Ex\" : 5, \"Gd\" : 4, \"TA\" : 3, \"Fa\" : 2, \"Po\" : 1} , #ord_cat_unordered_eq\n",
    "{\"Ex\" : 5, \"Gd\" : 4, \"TA\" : 3, \"Fa\" : 2, \"Po\" : 1}, #ord_cat_unordered_ec\n",
    " {\"Ex\" : 5, \"Gd\" : 4, \"TA\" : 3, \"Fa\" : 2, \"Po\" : 1, \"NoBasement\" : 0}, #ord_cat_unordered_bq\n",
    "{\"Ex\" : 5, \"Gd\" : 4, \"TA\" : 3, \"Fa\" : 2, \"Po\" : 1, \"NoBasement\" : 0}, #ord_cat_unordered_bc\n",
    "{\"Gd\" : 4, \"Av\" : 3, \"Mn\" : 2, \"No\" : 1, \"NoBasement\" : 0}, #ord_cat_unordered_be\n",
    "{\"GLQ\" : 6 , \"ALQ\" : 5, \"BLQ\" : 4, \"Rec\" : 3, \"LwQ\" : 2, \"Unf\" : 1, \"NoBasement\" : 0}, #ord_cat_unordered_bft1\n",
    "{\"GLQ\" : 6 , \"ALQ\" : 5, \"BLQ\" : 4, \"Rec\" : 3, \"LwQ\" : 2, \"Unf\" : 1, \"NoBasement\" : 0}, #ord_cat_unordered_bft2\n",
    " {\"SBrkr\" : 5, \"FuseA\" : 4, \"FuseF\" : 3, \"FuseP\" : 2, \"Mix\" : 1}, #ord_cat_unordered_e\n",
    "{\"Ex\" : 5, \"Gd\" : 4, \"TA\" : 3, \"Fa\" : 2, \"Po\" : 1}, #ord_cat_unordered_kq\n",
    " {\"Typ\" : 7, \"Min1\" : 6, \"Min2\" : 5, \"Mod\" : 4, \"Maj1\" : 3, \"Maj2\" : 2, \"Sev\" : 1}, #ord_cat_unordered_f\n",
    "{'Ex': 5, 'Gd' : 4, 'TA' : 3, \"Fa\" : 2, 'Po' : 1, 'NoFireplace' : 0}, #ord_cat_unordered_fq\n",
    " {'Fin' : 3, 'RFn' : 2, 'Unf' : 1, 'NoGarage' : 0}, #ord_cat_unordered_gf\n",
    " {\"Ex\" : 5, \"Gd\" : 4, \"TA\" : 3, \"Fa\" : 2, \"Po\" : 1, \"NoGarage\" : 0}, #ord_cat_unordered_gq\n",
    " {\"Ex\" : 5, \"Gd\" : 4, \"TA\" : 3, \"Fa\" : 2, \"Po\" : 1, \"NoGarage\" : 0} #ord_cat_unordered_gc\n",
    "]\n",
    "\n",
    "for i,col_name in enumerate(df[ordinal_cols_unordered].columns.values):\n",
    "\n",
    "    #replace dict of values in col features\n",
    "    temp_serie = df2[col_name].replace(ls_replace_vals_ord_cat_unordered[i])\n",
    "    temp_serie.name = col_name + \"_enc\"\n",
    "    df2 = pd.concat([df2,temp_serie],axis=1)\n",
    "    df2.drop([col_name],axis = 1,inplace=True)\n",
    "    new_feat_col_names.append(temp_serie.name)\n",
    "\n",
    "\n",
    "int_float_features = df2.columns.drop(new_feat_col_names).tolist()\n",
    "df2 = df2[new_feat_col_names + int_float_features]\n",
    "\n",
    "#--------------------------\n",
    "df3 = df1.copy()\n",
    "\n",
    "new_feat_col_names = []\n",
    "\n",
    "for col_name in df1.select_dtypes([\"object\"]).columns.values:\n",
    "    new_feat_name = col_name + \"_enc\"\n",
    "    x = LabelEncoder().fit_transform(df1[col_name])\n",
    "    temp_serie = pd.Series(x,name=new_feat_name)\n",
    "    df3 = pd.concat([df3,temp_serie],axis=1)\n",
    "    df3.drop([col_name],axis = 1,inplace=True)\n",
    "    new_feat_col_names.append(new_feat_name)\n",
    "\n",
    "\n",
    "int_float_features = df3.columns.drop(new_feat_col_names).tolist()\n",
    "df3 = df3[new_feat_col_names + int_float_features]\n",
    "\n"
   ]
  },
  {
   "cell_type": "markdown",
   "metadata": {},
   "source": [
    "Dataframe without outliers"
   ]
  },
  {
   "cell_type": "code",
   "execution_count": 90,
   "metadata": {},
   "outputs": [
    {
     "name": "stdout",
     "output_type": "stream",
     "text": [
      "df2 wo outliers obs  : 1458\n"
     ]
    }
   ],
   "source": [
    "df2_wo_outliers = df2.copy()\n",
    "print(f\"df2 wo outliers obs  : {df2_wo_outliers.shape[0]}\")\n",
    "df2_wo_outliers.drop(lot_frontage_outliers.index,axis=0,inplace=True)\n",
    "\n",
    "df2_wo_outliers.drop(outliers_mas_vnr_area.index,axis=0,inplace=True)"
   ]
  },
  {
   "cell_type": "code",
   "execution_count": 93,
   "metadata": {},
   "outputs": [],
   "source": [
    "df2_wo_outliers.reset_index(drop=True,inplace=True)"
   ]
  },
  {
   "cell_type": "code",
   "execution_count": 85,
   "metadata": {},
   "outputs": [],
   "source": [
    "df3_1 = df1_1.copy()\n",
    "\n",
    "\n",
    "new_feat_col_names = []\n",
    "\n",
    "for col_name in df1_1.select_dtypes([\"object\"]).columns.values:\n",
    "    new_feat_name = col_name + \"_enc\"\n",
    "    x = LabelEncoder().fit_transform(df1_1[col_name])\n",
    "    temp_serie = pd.Series(x,name=new_feat_name)\n",
    "    df3_1 = pd.concat([df3_1,temp_serie],axis=1)\n",
    "    df3_1.drop([col_name],axis = 1,inplace=True)\n",
    "    new_feat_col_names.append(new_feat_name)\n",
    "\n",
    "\n",
    "float_features = df3_1.columns.drop(new_feat_col_names).tolist()\n",
    "df3_1 = df3_1[new_feat_col_names + float_features]\n",
    "\n"
   ]
  },
  {
   "cell_type": "markdown",
   "metadata": {},
   "source": [
    "# Saving Dataframes to JSON Files"
   ]
  },
  {
   "cell_type": "markdown",
   "metadata": {},
   "source": [
    "For the last section of this notebook, we will save the processed dataframes DF2 and DF3, in an upcoming notebook we are going to assess if our outlier detection and filtering step yields better results, the best trained model will be set as baseline for comparison purposes and its training dataset will be kept for in depth feature selection and model experimentation."
   ]
  },
  {
   "cell_type": "code",
   "execution_count": 94,
   "metadata": {},
   "outputs": [],
   "source": [
    "save_path = \"./data/outlier-exclusion/\"\n",
    "df2_wo_outliers.to_json(save_path + \"dataset-wo-outliers-new-ord-enc.json\",orient=\"columns\")\n",
    "#df3.to_json(save_path + \"dataset-wo-outliers.json\",orient=\"columns\")\n",
    "#df3_1.to_json(save_path + \"dataset-wo-outliers_2.json\",orient=\"columns\")"
   ]
  }
 ],
 "metadata": {
  "kernelspec": {
   "display_name": "hackerrank",
   "language": "python",
   "name": "python3"
  },
  "language_info": {
   "codemirror_mode": {
    "name": "ipython",
    "version": 3
   },
   "file_extension": ".py",
   "mimetype": "text/x-python",
   "name": "python",
   "nbconvert_exporter": "python",
   "pygments_lexer": "ipython3",
   "version": "3.11.9"
  }
 },
 "nbformat": 4,
 "nbformat_minor": 2
}
